{
 "cells": [
  {
   "cell_type": "markdown",
   "id": "78dbc690",
   "metadata": {},
   "source": [
    "# Python Guided Practice"
   ]
  },
  {
   "cell_type": "markdown",
   "id": "c2911cf3",
   "metadata": {},
   "source": [
    "***"
   ]
  },
  {
   "attachments": {},
   "cell_type": "markdown",
   "id": "aaa61123",
   "metadata": {},
   "source": [
    "### GP Goals\n",
    "\n",
    "Explore basic to intermediate Python including:\n",
    "\n",
    "- Data Types\n",
    "- Operators\n",
    "- Conditional Statements\n",
    "- Iteration\n",
    "- Functions & Methods"
   ]
  },
  {
   "cell_type": "code",
   "execution_count": null,
   "id": "eb9b4983",
   "metadata": {},
   "outputs": [],
   "source": [
    "# great resource\n",
    "# https://pythonbasics.org/"
   ]
  },
  {
   "cell_type": "markdown",
   "id": "8a669460",
   "metadata": {},
   "source": [
    "## Tile Matching Examples"
   ]
  },
  {
   "cell_type": "markdown",
   "id": "c8845024",
   "metadata": {},
   "source": [
    "# Data types"
   ]
  },
  {
   "cell_type": "markdown",
   "id": "3dba8ae3",
   "metadata": {},
   "source": [
    "There are a number of varous data types to work with in pandas. These each will correspond to s certain variable type.\n",
    "\n",
    "For instance, when working with quantitative data where one would want to perform some mathematical operation, the appropriate data types could be `int` or `float`.\n",
    "\n",
    "On the other hand if working with categorical variables, the `str` data type can be useful.\n",
    "\n",
    "Python by default will assign a datatype based on the value assigned to a variable.\n",
    "\n",
    "In python, a variable name must start with a letter or an underscore (not a number), and are case sensitive."
   ]
  },
  {
   "cell_type": "code",
   "execution_count": 34,
   "id": "a9eb8895",
   "metadata": {},
   "outputs": [],
   "source": [
    "#type()"
   ]
  },
  {
   "cell_type": "markdown",
   "id": "2d9943a2",
   "metadata": {},
   "source": [
    "## Text Type"
   ]
  },
  {
   "cell_type": "markdown",
   "id": "3327716c",
   "metadata": {},
   "source": [
    "Text data types are made of you guessed it, characters or text and in python are referenced as `str` or `object`. \n",
    "\n",
    "There are a wide number of methods that can be used on strings. Let's go over a few.\n",
    "    \n",
    "- String indexing\n",
    "- Sub string\n",
    "- Replace method\n",
    "- Number of words to replace\n"
   ]
  },
  {
   "cell_type": "markdown",
   "id": "0a4b748a",
   "metadata": {},
   "source": [
    "### string `str`"
   ]
  },
  {
   "cell_type": "markdown",
   "id": "b76ddeca",
   "metadata": {},
   "source": [
    "Strings are characterized in python by their quotation marks. Both single and double quotes function to indicate a variable is a string."
   ]
  },
  {
   "cell_type": "code",
   "execution_count": 17,
   "id": "261f014c",
   "metadata": {},
   "outputs": [
    {
     "data": {
      "text/plain": [
       "'single quotes'"
      ]
     },
     "execution_count": 17,
     "metadata": {},
     "output_type": "execute_result"
    }
   ],
   "source": [
    "# single quote string\n",
    "'single quotes'"
   ]
  },
  {
   "cell_type": "code",
   "execution_count": 18,
   "id": "0fa07dc2",
   "metadata": {},
   "outputs": [
    {
     "data": {
      "text/plain": [
       "'double quotes'"
      ]
     },
     "execution_count": 18,
     "metadata": {},
     "output_type": "execute_result"
    }
   ],
   "source": [
    "# double quote string\n",
    "\"double quotes\""
   ]
  },
  {
   "cell_type": "code",
   "execution_count": 19,
   "id": "42e4f7aa",
   "metadata": {},
   "outputs": [
    {
     "data": {
      "text/plain": [
       "\" wrap lot's of other quotes\""
      ]
     },
     "execution_count": 19,
     "metadata": {},
     "output_type": "execute_result"
    }
   ],
   "source": [
    "# single quote in double quote string\n",
    "\" wrap lot's of other quotes\""
   ]
  },
  {
   "cell_type": "code",
   "execution_count": 2,
   "id": "a70580fc",
   "metadata": {},
   "outputs": [
    {
     "data": {
      "text/plain": [
       "str"
      ]
     },
     "execution_count": 2,
     "metadata": {},
     "output_type": "execute_result"
    }
   ],
   "source": [
    "# check type of a string\n",
    "type(\"hello world\")"
   ]
  },
  {
   "cell_type": "code",
   "execution_count": 36,
   "id": "a1a1b0f1",
   "metadata": {},
   "outputs": [
    {
     "data": {
      "text/plain": [
       "str"
      ]
     },
     "execution_count": 36,
     "metadata": {},
     "output_type": "execute_result"
    }
   ],
   "source": [
    "# Merry Christmas Martha\n",
    "x = \"Martha\"\n",
    "y = \"Christmas\"\n",
    "type(x)"
   ]
  },
  {
   "cell_type": "markdown",
   "id": "dfd728d2",
   "metadata": {},
   "source": [
    "### `.print()`"
   ]
  },
  {
   "cell_type": "markdown",
   "id": "f90e3d56",
   "metadata": {},
   "source": [
    "The `print()` function will print the input value, it can be useful for displaying the text of a string."
   ]
  },
  {
   "cell_type": "code",
   "execution_count": 37,
   "id": "b72b93e6",
   "metadata": {
    "scrolled": true
   },
   "outputs": [
    {
     "name": "stdout",
     "output_type": "stream",
     "text": [
      "Martha\n"
     ]
    }
   ],
   "source": [
    "# print previous string\n",
    "print(x)"
   ]
  },
  {
   "cell_type": "markdown",
   "id": "6886f375",
   "metadata": {},
   "source": [
    "### String Concatenation"
   ]
  },
  {
   "cell_type": "markdown",
   "id": "14ec57e4",
   "metadata": {},
   "source": [
    "Combining strings is called string concatenation. \n",
    "\n",
    "We can perform string concatenation using following ways:\n",
    " \n",
    "\n",
    "- Using + operator \n",
    " \n",
    "- Using `.join()` method \n",
    " \n",
    "- Using % operator \n",
    " \n",
    "- Using the `.format()` function "
   ]
  },
  {
   "cell_type": "markdown",
   "id": "6b0905b3",
   "metadata": {},
   "source": [
    "##### `+`"
   ]
  },
  {
   "cell_type": "code",
   "execution_count": 38,
   "id": "ba909441",
   "metadata": {},
   "outputs": [
    {
     "name": "stdout",
     "output_type": "stream",
     "text": [
      "Merry Christmas Martha\n"
     ]
    }
   ],
   "source": [
    "# string concatenation\n",
    "print(\"Merry\" + \" \" + y + \" \" + x)"
   ]
  },
  {
   "cell_type": "markdown",
   "id": "ba833c4c",
   "metadata": {},
   "source": [
    "##### `.join()`"
   ]
  },
  {
   "cell_type": "code",
   "execution_count": 54,
   "id": "f6b8d588",
   "metadata": {},
   "outputs": [
    {
     "name": "stdout",
     "output_type": "stream",
     "text": [
      "PythonGP1\n"
     ]
    }
   ],
   "source": [
    "# define strings                                                         \n",
    "first_part = \"Python\"\n",
    "last_part = \"GP\"\n",
    "third_part = \"1\"\n",
    "\n",
    "# define our sequence tuple                                                    \n",
    "title = (first_part,last_part,third_part)\n",
    "\n",
    "# join strings into new string with no space in between                                                  \n",
    "sentence = \"\".join(title)\n",
    "\n",
    "# print string\n",
    "print(sentence)"
   ]
  },
  {
   "cell_type": "code",
   "execution_count": 55,
   "id": "ae50a279",
   "metadata": {},
   "outputs": [
    {
     "name": "stdout",
     "output_type": "stream",
     "text": [
      "Python GP 1\n"
     ]
    }
   ],
   "source": [
    "# join strings into new string with a space in between                                                  \n",
    "sentence = \" \".join(title)\n",
    "\n",
    "# print string\n",
    "print(sentence)"
   ]
  },
  {
   "cell_type": "code",
   "execution_count": 56,
   "id": "3ba99499",
   "metadata": {},
   "outputs": [
    {
     "name": "stdout",
     "output_type": "stream",
     "text": [
      "I'm in a GP !\n"
     ]
    }
   ],
   "source": [
    "# concatenate string elements in a list\n",
    "words = [\"I'm\",\"in\",\"a\",\"GP\",\"!\"]\n",
    "sentence = ' '.join(words)\n",
    "print(sentence)"
   ]
  },
  {
   "cell_type": "markdown",
   "id": "5779c7f9",
   "metadata": {},
   "source": [
    "##### `%`"
   ]
  },
  {
   "cell_type": "markdown",
   "id": "b12d2ecb",
   "metadata": {},
   "source": [
    "When using the %(modulo) Operator the `%s` denotes string data type. The value in both variables is then passed to the string in place of `%s`."
   ]
  },
  {
   "cell_type": "code",
   "execution_count": 45,
   "id": "b59ae28b",
   "metadata": {},
   "outputs": [
    {
     "name": "stdout",
     "output_type": "stream",
     "text": [
      "Merry Christmas Martha\n"
     ]
    }
   ],
   "source": [
    "# % Operator is used here to combine the string\n",
    "print(\"Merry %s %s\" % (y, x))"
   ]
  },
  {
   "cell_type": "code",
   "execution_count": 47,
   "id": "7e6c5dd7",
   "metadata": {},
   "outputs": [
    {
     "name": "stdout",
     "output_type": "stream",
     "text": [
      "Python GP\n"
     ]
    }
   ],
   "source": [
    "# % Operator is used here to combine the string\n",
    "print(\"%s %s\" % (first_part, last_part))"
   ]
  },
  {
   "cell_type": "markdown",
   "id": "c22b9828",
   "metadata": {},
   "source": [
    "##### `.format()`"
   ]
  },
  {
   "cell_type": "markdown",
   "id": "ab0947fd",
   "metadata": {},
   "source": [
    "`str.format()` is a string formatting method that allows us to concatenate elements within a string with positional formatting.\n",
    "\n",
    "Here `{}` curly brackets are used to indicate where a string element should be placed within the string."
   ]
  },
  {
   "cell_type": "code",
   "execution_count": 48,
   "id": "803f8cd6",
   "metadata": {},
   "outputs": [
    {
     "name": "stdout",
     "output_type": "stream",
     "text": [
      "Python GP\n"
     ]
    }
   ],
   "source": [
    "# string concatenation with .format()\n",
    "print(\"{} {}\".format(first_part, last_part))"
   ]
  },
  {
   "cell_type": "markdown",
   "id": "815aae44",
   "metadata": {},
   "source": [
    "### `.split()`"
   ]
  },
  {
   "cell_type": "markdown",
   "id": "9560af6f",
   "metadata": {},
   "source": [
    "Just as we can add strings together, we can split them in a similar fashion with the `.split()` method.\n",
    "\n",
    "Here we can split a string on any character or group of characters, `.split()` defaults to splitting a string on the whitespace."
   ]
  },
  {
   "cell_type": "code",
   "execution_count": 51,
   "id": "e5c8da3d",
   "metadata": {},
   "outputs": [
    {
     "name": "stdout",
     "output_type": "stream",
     "text": [
      "['Its', 'to', 'easy']\n"
     ]
    }
   ],
   "source": [
    "# create a string\n",
    "s = \"Its to easy\"\n",
    "\n",
    "# split the string into a list\n",
    "words = s.split()\n",
    "\n",
    "# print the new list\n",
    "print(words)"
   ]
  },
  {
   "cell_type": "code",
   "execution_count": 53,
   "id": "c1b527b5",
   "metadata": {},
   "outputs": [
    {
     "name": "stdout",
     "output_type": "stream",
     "text": [
      "11\n",
      "3\n"
     ]
    }
   ],
   "source": [
    "# print length of original string\n",
    "print(len(s))\n",
    "\n",
    "# print length of list\n",
    "print(len(words))"
   ]
  },
  {
   "cell_type": "markdown",
   "id": "34603a9d",
   "metadata": {},
   "source": [
    "### `.replace()`"
   ]
  },
  {
   "cell_type": "markdown",
   "id": "6bac4058",
   "metadata": {},
   "source": [
    "It is also possible to replace strings. An effective method for replacing strings is `.replace()`.\n",
    "\n",
    "`.replace()` takes in the `old_string` as its first parameter and the `new_string` as its second parameter."
   ]
  },
  {
   "cell_type": "code",
   "execution_count": 49,
   "id": "0bd60993",
   "metadata": {},
   "outputs": [
    {
     "name": "stdout",
     "output_type": "stream",
     "text": [
      "Merry Christmas Grinch\n"
     ]
    }
   ],
   "source": [
    "# create a string (sentence)\n",
    "x = \"Merry Christmas Martha\"\n",
    "\n",
    "# replace Martha with Grinch\n",
    "x = x.replace(\"Martha\", \"Grinch\")\n",
    "\n",
    "# print string\n",
    "print(x)"
   ]
  },
  {
   "cell_type": "markdown",
   "id": "9877de87",
   "metadata": {},
   "source": [
    "## Numeric Type"
   ]
  },
  {
   "cell_type": "markdown",
   "id": "284d3793",
   "metadata": {},
   "source": [
    "Let's take a look at how to work with quatititative variables in python.\n",
    "\n",
    "In this notebook we will explore integer and float values."
   ]
  },
  {
   "cell_type": "markdown",
   "id": "7b9ca8a0",
   "metadata": {},
   "source": [
    "### integer `int`"
   ]
  },
  {
   "cell_type": "markdown",
   "id": "be726230",
   "metadata": {},
   "source": [
    "As the name suggests, the `int` data type allows us to work with integer values in python. \n",
    "\n",
    "With `int`s we can perform arithmetic operations and perform statisical analysis vital to data science and machine learning."
   ]
  },
  {
   "cell_type": "code",
   "execution_count": 58,
   "id": "9e0f1f2f",
   "metadata": {},
   "outputs": [
    {
     "data": {
      "text/plain": [
       "int"
      ]
     },
     "execution_count": 58,
     "metadata": {},
     "output_type": "execute_result"
    }
   ],
   "source": [
    "# return the type of an integer\n",
    "type(5)"
   ]
  },
  {
   "cell_type": "code",
   "execution_count": 12,
   "id": "c1d6bef9",
   "metadata": {},
   "outputs": [
    {
     "data": {
      "text/plain": [
       "10"
      ]
     },
     "execution_count": 12,
     "metadata": {},
     "output_type": "execute_result"
    }
   ],
   "source": [
    "# add that integer to itself\n",
    "5 + 5"
   ]
  },
  {
   "cell_type": "code",
   "execution_count": 14,
   "id": "8c02fe24",
   "metadata": {},
   "outputs": [],
   "source": [
    "# set that integer to a variable\n",
    "x = 5"
   ]
  },
  {
   "cell_type": "code",
   "execution_count": 13,
   "id": "64e3b99c",
   "metadata": {},
   "outputs": [
    {
     "data": {
      "text/plain": [
       "10"
      ]
     },
     "execution_count": 13,
     "metadata": {},
     "output_type": "execute_result"
    }
   ],
   "source": [
    "# add that variable to itself\n",
    "x + x"
   ]
  },
  {
   "cell_type": "markdown",
   "id": "9054f6e8",
   "metadata": {},
   "source": [
    "### float `float`"
   ]
  },
  {
   "cell_type": "markdown",
   "id": "5cb8a0b1",
   "metadata": {},
   "source": [
    "When working with decimal values, we use the `float` or floating point data type. We can effectivly perform all the same arthmetic operations we can perform on `int` on `float` as well."
   ]
  },
  {
   "cell_type": "code",
   "execution_count": 17,
   "id": "ee84fd9e",
   "metadata": {},
   "outputs": [],
   "source": [
    "# create a float variable where\n",
    "# integer.variable+variable\n",
    "x = 5.10"
   ]
  },
  {
   "cell_type": "markdown",
   "id": "cab36995",
   "metadata": {},
   "source": [
    "### arithmetic operations"
   ]
  },
  {
   "cell_type": "code",
   "execution_count": 18,
   "id": "6e716c63",
   "metadata": {},
   "outputs": [
    {
     "data": {
      "text/plain": [
       "26.009999999999998"
      ]
     },
     "execution_count": 18,
     "metadata": {},
     "output_type": "execute_result"
    }
   ],
   "source": [
    "# multiply that float by itself and check the type\n",
    "# of the output\n",
    "x * x"
   ]
  },
  {
   "cell_type": "code",
   "execution_count": 8,
   "id": "33cb2a5d",
   "metadata": {
    "scrolled": true
   },
   "outputs": [
    {
     "data": {
      "text/plain": [
       "0.5"
      ]
     },
     "execution_count": 8,
     "metadata": {},
     "output_type": "execute_result"
    }
   ],
   "source": [
    "# create a float value from an operation on two integers\n",
    "1 / 2"
   ]
  },
  {
   "cell_type": "code",
   "execution_count": 9,
   "id": "e01633c7",
   "metadata": {},
   "outputs": [
    {
     "data": {
      "text/plain": [
       "16"
      ]
     },
     "execution_count": 9,
     "metadata": {},
     "output_type": "execute_result"
    }
   ],
   "source": [
    "# explore exponential operations\n",
    "3 ** 3"
   ]
  },
  {
   "cell_type": "code",
   "execution_count": 10,
   "id": "db42ff09",
   "metadata": {},
   "outputs": [
    {
     "data": {
      "text/plain": [
       "0"
      ]
     },
     "execution_count": 10,
     "metadata": {},
     "output_type": "execute_result"
    }
   ],
   "source": [
    "# use modulo to return remainder of division\n",
    "5 % 2"
   ]
  },
  {
   "cell_type": "code",
   "execution_count": 59,
   "id": "af172420",
   "metadata": {},
   "outputs": [
    {
     "data": {
      "text/plain": [
       "50"
      ]
     },
     "execution_count": 59,
     "metadata": {},
     "output_type": "execute_result"
    }
   ],
   "source": [
    "# create an example of order of operations\n",
    "(2 + 3) * (5 + 5)"
   ]
  },
  {
   "cell_type": "markdown",
   "id": "25173f7b",
   "metadata": {},
   "source": [
    "## `list`"
   ]
  },
  {
   "cell_type": "markdown",
   "id": "9072250c",
   "metadata": {},
   "source": [
    "Lists are used to store multiple items in a single variable, and are one of the most common data types to use in data analysis.\n",
    "\n",
    "Lists are mutable stores of data. Other data types that are designed to store collections of data, which are referred to as **iterables** are:\n",
    "\n",
    "- Tuples\n",
    "- Sets\n",
    "- Dictionaries\n",
    "\n",
    "Notice that we can create a list with square brackets:"
   ]
  },
  {
   "cell_type": "code",
   "execution_count": 77,
   "id": "f142df2f",
   "metadata": {},
   "outputs": [
    {
     "data": {
      "text/plain": [
       "['a', 'b', 'c']"
      ]
     },
     "execution_count": 77,
     "metadata": {},
     "output_type": "execute_result"
    }
   ],
   "source": [
    "# create a new list with square brackets\n",
    "old_list = ['a','b','c']\n",
    "old_list"
   ]
  },
  {
   "cell_type": "code",
   "execution_count": 78,
   "id": "ae0cd3dc",
   "metadata": {},
   "outputs": [
    {
     "data": {
      "text/plain": [
       "['a', 'b', 'c', 1, 2, 3]"
      ]
     },
     "execution_count": 78,
     "metadata": {},
     "output_type": "execute_result"
    }
   ],
   "source": [
    "# create a new list with the list method\n",
    "new_list = list(['a', 'b', 'c', 1, 2, 3])\n",
    "new_list"
   ]
  },
  {
   "cell_type": "markdown",
   "id": "bd96ff6a",
   "metadata": {},
   "source": [
    "Notice that a list can contain elements with various data types, a list can even contain a list as an element. This is refererred to as a nested list."
   ]
  },
  {
   "cell_type": "code",
   "execution_count": 97,
   "id": "c65d7f03",
   "metadata": {},
   "outputs": [
    {
     "data": {
      "text/plain": [
       "['a', 'b', 'c', 1, 2, 3, ['nested', ['list']]]"
      ]
     },
     "execution_count": 97,
     "metadata": {},
     "output_type": "execute_result"
    }
   ],
   "source": [
    "# create a list with a nested list inside of a nested list\n",
    "newest_list = ['a', 'b', 'c', 1, 2, 3, ['nested', ['list']]]\n",
    "newest_list"
   ]
  },
  {
   "cell_type": "markdown",
   "id": "9fb8af5b",
   "metadata": {},
   "source": [
    "### indexing"
   ]
  },
  {
   "cell_type": "markdown",
   "id": "9255757e",
   "metadata": {},
   "source": [
    "We can access a list element by performing indexing.\n",
    "\n",
    "Here we use brackets and the element's index, or position in the list. \n",
    "\n",
    "In python we start our counts with `0`, so the first element of a list always has the index `0`."
   ]
  },
  {
   "cell_type": "code",
   "execution_count": 112,
   "id": "2be97365",
   "metadata": {},
   "outputs": [
    {
     "data": {
      "text/plain": [
       "'NEW'"
      ]
     },
     "execution_count": 112,
     "metadata": {},
     "output_type": "execute_result"
    }
   ],
   "source": [
    "# return the first element of the previous list\n",
    "newest_list[0]"
   ]
  },
  {
   "cell_type": "code",
   "execution_count": 99,
   "id": "b2b79def",
   "metadata": {},
   "outputs": [
    {
     "data": {
      "text/plain": [
       "['nested', ['list']]"
      ]
     },
     "execution_count": 99,
     "metadata": {},
     "output_type": "execute_result"
    }
   ],
   "source": [
    "# return the outer nested list from the previous list\n",
    "newest_list[6]"
   ]
  },
  {
   "cell_type": "code",
   "execution_count": 100,
   "id": "7f9032f4",
   "metadata": {},
   "outputs": [
    {
     "data": {
      "text/plain": [
       "['list']"
      ]
     },
     "execution_count": 100,
     "metadata": {},
     "output_type": "execute_result"
    }
   ],
   "source": [
    "# return the inner nested list from the previous list\n",
    "newest_list[6][1]"
   ]
  },
  {
   "cell_type": "markdown",
   "id": "6616d4c7",
   "metadata": {},
   "source": [
    "## slicing"
   ]
  },
  {
   "cell_type": "markdown",
   "id": "3dd1088c",
   "metadata": {},
   "source": [
    "We can also perform slicing to return a subset of elements from a list based on their indices:"
   ]
  },
  {
   "cell_type": "code",
   "execution_count": 101,
   "id": "0f88657d",
   "metadata": {},
   "outputs": [
    {
     "data": {
      "text/plain": [
       "['a', 'b', 'c']"
      ]
     },
     "execution_count": 101,
     "metadata": {},
     "output_type": "execute_result"
    }
   ],
   "source": [
    "# return only the first three elements of the string\n",
    "newest_list[0:3]"
   ]
  },
  {
   "cell_type": "code",
   "execution_count": 102,
   "id": "b7b8fae6",
   "metadata": {},
   "outputs": [
    {
     "data": {
      "text/plain": [
       "[1, 2, 3]"
      ]
     },
     "execution_count": 102,
     "metadata": {},
     "output_type": "execute_result"
    }
   ],
   "source": [
    "# return only the 4 - 6 element of the list\n",
    "# if list not long enough recreate list\n",
    "newest_list[3:6]"
   ]
  },
  {
   "cell_type": "markdown",
   "id": "e610e811",
   "metadata": {},
   "source": [
    "We can set a new value to an element in a list with indexing also:"
   ]
  },
  {
   "cell_type": "code",
   "execution_count": 103,
   "id": "5792c98e",
   "metadata": {},
   "outputs": [
    {
     "data": {
      "text/plain": [
       "['NEW', 'b', 'c', 1, 2, 3, ['nested', ['list']]]"
      ]
     },
     "execution_count": 103,
     "metadata": {},
     "output_type": "execute_result"
    }
   ],
   "source": [
    "newest_list[0] = 'NEW'\n",
    "newest_list"
   ]
  },
  {
   "cell_type": "markdown",
   "id": "0cdc952c",
   "metadata": {},
   "source": [
    "## `.append()`"
   ]
  },
  {
   "cell_type": "markdown",
   "id": "c87c698b",
   "metadata": {},
   "source": [
    "We can perform methods on lists in order to alter them. A common desire is to add an element to a list, which we can acheive by calling the `.append()` method which will add an element of any type to the end of a list:"
   ]
  },
  {
   "cell_type": "code",
   "execution_count": 104,
   "id": "2e068273",
   "metadata": {},
   "outputs": [
    {
     "data": {
      "text/plain": [
       "['NEW', 'b', 'c', 1, 2, 3, ['nested', ['list']], 'last_element']"
      ]
     },
     "execution_count": 104,
     "metadata": {},
     "output_type": "execute_result"
    }
   ],
   "source": [
    "# add a new element to the end of the list\n",
    "newest_list.append('last_element')\n",
    "newest_list"
   ]
  },
  {
   "cell_type": "code",
   "execution_count": 105,
   "id": "c573826f",
   "metadata": {},
   "outputs": [
    {
     "data": {
      "text/plain": [
       "'last_element'"
      ]
     },
     "execution_count": 105,
     "metadata": {},
     "output_type": "execute_result"
    }
   ],
   "source": [
    "# return the last element of the list with indexing\n",
    "newest_list[-1]"
   ]
  },
  {
   "cell_type": "markdown",
   "id": "2d23a27a",
   "metadata": {},
   "source": [
    "## `.pop()`"
   ]
  },
  {
   "cell_type": "markdown",
   "id": "ccc7b414",
   "metadata": {},
   "source": [
    "When we want to remove an element from a list, we can call the `.pop()` method. \n",
    "\n",
    "This method will remove an element from the end of a list:"
   ]
  },
  {
   "cell_type": "code",
   "execution_count": 114,
   "id": "d221ee1e",
   "metadata": {},
   "outputs": [
    {
     "data": {
      "text/plain": [
       "['NEW', 'b', 'c', 1, 2, 3, ['nested', ['list']]]"
      ]
     },
     "execution_count": 114,
     "metadata": {},
     "output_type": "execute_result"
    }
   ],
   "source": [
    "# remove last element of the list\n",
    "newest_list.pop()\n",
    "newest_list"
   ]
  },
  {
   "cell_type": "markdown",
   "id": "1ef3708d",
   "metadata": {},
   "source": [
    "## `list` operations"
   ]
  },
  {
   "cell_type": "markdown",
   "id": "ac3e0919",
   "metadata": {},
   "source": [
    "There are also a number of arithmetic methods we can perform on a list if it only contains numeric data types, for instance we can return the sum of the elements, as well as the minimum and maximum values."
   ]
  },
  {
   "cell_type": "code",
   "execution_count": 108,
   "id": "510018d1",
   "metadata": {},
   "outputs": [],
   "source": [
    "# create list of numeric data type\n",
    "num_list = [1, 2.2, 3, 4.4, 5, 6.6, 7, 8.8, 9, 10.1]"
   ]
  },
  {
   "cell_type": "code",
   "execution_count": 109,
   "id": "11a0a88b",
   "metadata": {},
   "outputs": [
    {
     "name": "stdout",
     "output_type": "stream",
     "text": [
      "57.1\n"
     ]
    }
   ],
   "source": [
    "# return the sum of the elements in the list\n",
    "print(sum(num_list))"
   ]
  },
  {
   "cell_type": "code",
   "execution_count": 110,
   "id": "fc527d85",
   "metadata": {},
   "outputs": [
    {
     "name": "stdout",
     "output_type": "stream",
     "text": [
      "1\n"
     ]
    }
   ],
   "source": [
    "# return the element with the minimum value\n",
    "# from the list\n",
    "print(min(num_list))"
   ]
  },
  {
   "cell_type": "code",
   "execution_count": 111,
   "id": "e31ad06d",
   "metadata": {},
   "outputs": [
    {
     "name": "stdout",
     "output_type": "stream",
     "text": [
      "10.1\n"
     ]
    }
   ],
   "source": [
    "# return the element with the minimum value\n",
    "# from the list\n",
    "print(max(num_list))"
   ]
  },
  {
   "cell_type": "markdown",
   "id": "98d24cfe",
   "metadata": {},
   "source": [
    "## Dictionaries"
   ]
  },
  {
   "cell_type": "markdown",
   "id": "4487490f",
   "metadata": {},
   "source": [
    "Dictionaries are another iterable that uses key value pairs. With dictionaries every key has an associated value.\n",
    "\n",
    "However, unlike lists, dictionaries don't have an order to them.\n",
    "\n",
    "Dictionaries are defined by curly brackets."
   ]
  },
  {
   "cell_type": "code",
   "execution_count": 244,
   "id": "37210f4b",
   "metadata": {},
   "outputs": [],
   "source": [
    "# create a dictionary\n",
    "d = {'first_key' : 0, 'second_key' : '1'}"
   ]
  },
  {
   "cell_type": "code",
   "execution_count": 245,
   "id": "095a5cfb",
   "metadata": {},
   "outputs": [
    {
     "name": "stdout",
     "output_type": "stream",
     "text": [
      "{'first_key': 0, 'second_key': '1'}\n"
     ]
    }
   ],
   "source": [
    "# print dictionary\n",
    "print(d)"
   ]
  },
  {
   "cell_type": "code",
   "execution_count": 247,
   "id": "c76caaa8",
   "metadata": {},
   "outputs": [
    {
     "data": {
      "text/plain": [
       "0"
      ]
     },
     "execution_count": 247,
     "metadata": {},
     "output_type": "execute_result"
    }
   ],
   "source": [
    "# view  first key in dictionary \n",
    "d['first_key']"
   ]
  },
  {
   "cell_type": "code",
   "execution_count": 94,
   "id": "2c17779e",
   "metadata": {
    "scrolled": true
   },
   "outputs": [
    {
     "data": {
      "text/plain": [
       "dict_items([('key2', 'item2'), ('key1', 'item1')])"
      ]
     },
     "execution_count": 94,
     "metadata": {},
     "output_type": "execute_result"
    }
   ],
   "source": [
    "# view items in dictionary\n",
    "d.items()"
   ]
  },
  {
   "cell_type": "code",
   "execution_count": 249,
   "id": "017a267d",
   "metadata": {},
   "outputs": [
    {
     "data": {
      "text/plain": [
       "dict_keys(['first_key', 'second_key'])"
      ]
     },
     "execution_count": 249,
     "metadata": {},
     "output_type": "execute_result"
    }
   ],
   "source": [
    "# view all keys in dictionary\n",
    "d.keys()"
   ]
  },
  {
   "cell_type": "code",
   "execution_count": 250,
   "id": "50263b18",
   "metadata": {},
   "outputs": [
    {
     "data": {
      "text/plain": [
       "dict_values([0, '1'])"
      ]
     },
     "execution_count": 250,
     "metadata": {},
     "output_type": "execute_result"
    }
   ],
   "source": [
    "# view all values in dictionary\n",
    "d.values()"
   ]
  },
  {
   "cell_type": "markdown",
   "id": "3489610c",
   "metadata": {},
   "source": [
    "## `bool`"
   ]
  },
  {
   "cell_type": "markdown",
   "id": "9cf62323",
   "metadata": {},
   "source": [
    "Nominal values that contain only two mutually exclusive categories are known as boolean or the `bool` data type."
   ]
  },
  {
   "cell_type": "code",
   "execution_count": 40,
   "id": "5d011c3a",
   "metadata": {},
   "outputs": [
    {
     "data": {
      "text/plain": [
       "True"
      ]
     },
     "execution_count": 40,
     "metadata": {},
     "output_type": "execute_result"
    }
   ],
   "source": [
    "True"
   ]
  },
  {
   "cell_type": "code",
   "execution_count": 41,
   "id": "59b2b21f",
   "metadata": {},
   "outputs": [
    {
     "data": {
      "text/plain": [
       "False"
      ]
     },
     "execution_count": 41,
     "metadata": {},
     "output_type": "execute_result"
    }
   ],
   "source": [
    "False"
   ]
  },
  {
   "cell_type": "markdown",
   "id": "b02530d2",
   "metadata": {},
   "source": [
    "## `tuple`"
   ]
  },
  {
   "cell_type": "markdown",
   "id": "1af2411a",
   "metadata": {},
   "source": [
    "A `tuple` is a collection which is ordered and unchangeable, and allow for duplicates."
   ]
  },
  {
   "cell_type": "code",
   "execution_count": 252,
   "id": "5ad6dfb5",
   "metadata": {},
   "outputs": [],
   "source": [
    "# create a tuple\n",
    "t = (1,2,3)"
   ]
  },
  {
   "cell_type": "code",
   "execution_count": 43,
   "id": "aec3a8c4",
   "metadata": {},
   "outputs": [
    {
     "data": {
      "text/plain": [
       "1"
      ]
     },
     "execution_count": 43,
     "metadata": {},
     "output_type": "execute_result"
    }
   ],
   "source": [
    "# index the tuple\n",
    "t[0]"
   ]
  },
  {
   "cell_type": "code",
   "execution_count": 253,
   "id": "e3d1c2e4",
   "metadata": {
    "scrolled": true
   },
   "outputs": [],
   "source": [
    "#t[0] = 'NEW'"
   ]
  },
  {
   "cell_type": "markdown",
   "id": "9d920dcd",
   "metadata": {},
   "source": [
    "## `set`"
   ]
  },
  {
   "cell_type": "markdown",
   "id": "61e79647",
   "metadata": {},
   "source": [
    "Sets are also an iterable that we come across when using python\n",
    "\n",
    "A set is a collection which is unordered, unchangeable*, and unindexed.\n",
    "\n",
    "Sets are also created using curly brackets, the most important features of sets is that they do not allow duplicates."
   ]
  },
  {
   "cell_type": "code",
   "execution_count": 255,
   "id": "52cee9cf",
   "metadata": {},
   "outputs": [
    {
     "data": {
      "text/plain": [
       "{1, 2, 3}"
      ]
     },
     "execution_count": 255,
     "metadata": {},
     "output_type": "execute_result"
    }
   ],
   "source": [
    "# create a set\n",
    "{1,2,3,1,2,1,2,3,3,3,3,2,2,2,1,1,2}"
   ]
  },
  {
   "cell_type": "markdown",
   "id": "0fd4b5c5",
   "metadata": {},
   "source": [
    "# Operators"
   ]
  },
  {
   "cell_type": "markdown",
   "id": "2284edf6",
   "metadata": {},
   "source": [
    "## Conditional Operators"
   ]
  },
  {
   "cell_type": "code",
   "execution_count": 47,
   "id": "43b127a1",
   "metadata": {},
   "outputs": [
    {
     "data": {
      "text/plain": [
       "False"
      ]
     },
     "execution_count": 47,
     "metadata": {},
     "output_type": "execute_result"
    }
   ],
   "source": [
    "1 > 2"
   ]
  },
  {
   "cell_type": "code",
   "execution_count": 48,
   "id": "91384d86",
   "metadata": {},
   "outputs": [
    {
     "data": {
      "text/plain": [
       "True"
      ]
     },
     "execution_count": 48,
     "metadata": {},
     "output_type": "execute_result"
    }
   ],
   "source": [
    "1 < 2"
   ]
  },
  {
   "cell_type": "code",
   "execution_count": 49,
   "id": "e7f8a219",
   "metadata": {},
   "outputs": [
    {
     "data": {
      "text/plain": [
       "True"
      ]
     },
     "execution_count": 49,
     "metadata": {},
     "output_type": "execute_result"
    }
   ],
   "source": [
    "1 >= 1"
   ]
  },
  {
   "cell_type": "code",
   "execution_count": 50,
   "id": "3d9aeeab",
   "metadata": {},
   "outputs": [
    {
     "data": {
      "text/plain": [
       "True"
      ]
     },
     "execution_count": 50,
     "metadata": {},
     "output_type": "execute_result"
    }
   ],
   "source": [
    "1 <= 4"
   ]
  },
  {
   "cell_type": "code",
   "execution_count": 51,
   "id": "26bfc728",
   "metadata": {},
   "outputs": [
    {
     "data": {
      "text/plain": [
       "True"
      ]
     },
     "execution_count": 51,
     "metadata": {},
     "output_type": "execute_result"
    }
   ],
   "source": [
    "1 == 1"
   ]
  },
  {
   "cell_type": "code",
   "execution_count": 52,
   "id": "b438bc6d",
   "metadata": {},
   "outputs": [
    {
     "data": {
      "text/plain": [
       "False"
      ]
     },
     "execution_count": 52,
     "metadata": {},
     "output_type": "execute_result"
    }
   ],
   "source": [
    "'hi' == 'bye'"
   ]
  },
  {
   "cell_type": "markdown",
   "id": "45456966",
   "metadata": {},
   "source": [
    "## Logic Operators"
   ]
  },
  {
   "cell_type": "code",
   "execution_count": 53,
   "id": "094f9841",
   "metadata": {},
   "outputs": [
    {
     "data": {
      "text/plain": [
       "False"
      ]
     },
     "execution_count": 53,
     "metadata": {},
     "output_type": "execute_result"
    }
   ],
   "source": [
    "(1 > 2) and (2 < 3)"
   ]
  },
  {
   "cell_type": "code",
   "execution_count": 54,
   "id": "ce70614d",
   "metadata": {},
   "outputs": [
    {
     "data": {
      "text/plain": [
       "True"
      ]
     },
     "execution_count": 54,
     "metadata": {},
     "output_type": "execute_result"
    }
   ],
   "source": [
    "(1 > 2) or (2 < 3)"
   ]
  },
  {
   "cell_type": "code",
   "execution_count": 55,
   "id": "08c31ca1",
   "metadata": {},
   "outputs": [
    {
     "data": {
      "text/plain": [
       "True"
      ]
     },
     "execution_count": 55,
     "metadata": {},
     "output_type": "execute_result"
    }
   ],
   "source": [
    "(1 == 2) or (2 == 3) or (4 == 4)"
   ]
  },
  {
   "cell_type": "markdown",
   "id": "d491ee8a",
   "metadata": {},
   "source": [
    "# Conditional Statements"
   ]
  },
  {
   "cell_type": "markdown",
   "id": "15a40d4a",
   "metadata": {},
   "source": [
    "Control flow: When working with conditional statements we use a control structure to direct the order of execution for the statements in a program.\n",
    "\n",
    "Conditional statements allow us to perform the conditional execution of a statement or a multiple statements based on the value of an expression. Conditional statements include:\n",
    "\n",
    "- `if`\n",
    "- `else`\n",
    "- `elif`"
   ]
  },
  {
   "cell_type": "markdown",
   "id": "5a1a2336",
   "metadata": {},
   "source": [
    "## `if`"
   ]
  },
  {
   "cell_type": "markdown",
   "id": "ee738cb1",
   "metadata": {},
   "source": [
    "`if` statements are one of the control structures that allow to change the flow of our program.\n",
    "\n",
    "The `if` statement uses conditions that can be combined with operators (`>`, `<`, `==`) to direct the control flow.\n",
    "\n",
    "When writing `if` statements, every if statement needs a colon, after which the next line is always indented with four spaces."
   ]
  },
  {
   "cell_type": "code",
   "execution_count": 115,
   "id": "5f3ae701",
   "metadata": {},
   "outputs": [
    {
     "name": "stdout",
     "output_type": "stream",
     "text": [
      "2 is greater than 1\n"
     ]
    }
   ],
   "source": [
    "# create an if statement with operator\n",
    "if 10 < 20:\n",
    "    print('20 is greater than 10')"
   ]
  },
  {
   "cell_type": "code",
   "execution_count": 116,
   "id": "1dcb9b29",
   "metadata": {},
   "outputs": [
    {
     "name": "stdout",
     "output_type": "stream",
     "text": [
      "10\n"
     ]
    }
   ],
   "source": [
    "# perform some arthmetic operation with if statement\n",
    "x = 5\n",
    "if x < 10:\n",
    "    print(x + x)"
   ]
  },
  {
   "cell_type": "code",
   "execution_count": 117,
   "id": "761fcdf2",
   "metadata": {},
   "outputs": [],
   "source": [
    "# create an if statement with two conditions\n",
    "if x > 1 and x < 4:\n",
    "     print('x is in range')"
   ]
  },
  {
   "cell_type": "markdown",
   "id": "c684cf9f",
   "metadata": {},
   "source": [
    "An `if` statement can also have mutltiple statements referred to as a block.\n",
    "\n",
    "\n",
    "Python interprets a block as a single entity, so if the `if` statement is `TRUE`, the entire block will run."
   ]
  },
  {
   "cell_type": "code",
   "execution_count": 124,
   "id": "9df80f1f",
   "metadata": {},
   "outputs": [
    {
     "name": "stdout",
     "output_type": "stream",
     "text": [
      "x is equals five\n",
      "five is my favorite number\n",
      "So x is my favorite number?\n"
     ]
    }
   ],
   "source": [
    "# create an if statement with a block\n",
    "if x <= 5:\n",
    "    print(\"x is equals five\")\n",
    "    print(\"five is my favorite number\")\n",
    "    print(\"So x is my favorite number?\")"
   ]
  },
  {
   "cell_type": "markdown",
   "id": "68741916",
   "metadata": {},
   "source": [
    "## `else`"
   ]
  },
  {
   "cell_type": "markdown",
   "id": "bc58c35d",
   "metadata": {},
   "source": [
    "An `else` statement can run in conjunction with `if` to allow for another conditional to impact the control flow.\n",
    "\n",
    "We do not include an expression with the `else` statement.\n",
    "\n",
    "With the `else` clause, we run a condition when `if` is not `TRUE`:"
   ]
  },
  {
   "cell_type": "code",
   "execution_count": 122,
   "id": "1918140c",
   "metadata": {},
   "outputs": [
    {
     "name": "stdout",
     "output_type": "stream",
     "text": [
      "x is smaller than five\n"
     ]
    }
   ],
   "source": [
    "# create an if-else statement\n",
    "if x > 5:\n",
    "    print('hello {}'.format(x))\n",
    "else:\n",
    "    print(\"x is smaller than five\")"
   ]
  },
  {
   "cell_type": "markdown",
   "id": "38fbec25",
   "metadata": {},
   "source": [
    "## `elif`"
   ]
  },
  {
   "cell_type": "markdown",
   "id": "83fb1d84",
   "metadata": {},
   "source": [
    "To evaluate several cases, we can use the `elif` clause and stands for `else` `if`. \n",
    "\n",
    "Unlike `else` we can add an expression with `elif`."
   ]
  },
  {
   "cell_type": "code",
   "execution_count": 125,
   "id": "fa014fc4",
   "metadata": {},
   "outputs": [
    {
     "name": "stdout",
     "output_type": "stream",
     "text": [
      "x is equal to five\n"
     ]
    }
   ],
   "source": [
    "# create an if, elif, else statement\n",
    "if x < 5:\n",
    "    print('x is less than five')\n",
    "elif x == 5:\n",
    "    print('x is equal to five')\n",
    "else:\n",
    "    print('x was greater than five')"
   ]
  },
  {
   "cell_type": "markdown",
   "id": "4dcdff20",
   "metadata": {},
   "source": [
    "# Iteration"
   ]
  },
  {
   "cell_type": "markdown",
   "id": "6d18173c",
   "metadata": {},
   "source": [
    "Often it is necessary to iterate through an iterable, i.e. lists, dictionaries, etc.\n",
    "\n",
    "Loops can be used to iterate thorugh an iterable or store of data. Types of loops include:\n",
    "    \n",
    "- `for`\n",
    "- `while`"
   ]
  },
  {
   "cell_type": "markdown",
   "id": "c0c7bf06",
   "metadata": {},
   "source": [
    "## `for` Loops"
   ]
  },
  {
   "cell_type": "markdown",
   "id": "e54e9138",
   "metadata": {},
   "source": [
    "To iterate we need to be able to repeat an action.\n",
    "\n",
    "`for` loops allow us to repeat ot loop a block of code until some condition is met. \n",
    "\n",
    "`Warning` if this condition is not met, the `for` loop can run it's loop forever.\n",
    "\n",
    "Programs sometimes need to repeat actions. To repeat actions we can use a for loop.\n",
    "A for loop is written inside the code. A for loop can have 1 or more instructions.\n",
    "\n",
    "A for loop will repeat a code block. Repeation is continued until the stop condition is met. If the stop condition is not met it will loop infintely."
   ]
  },
  {
   "cell_type": "code",
   "execution_count": 130,
   "id": "0a25e605",
   "metadata": {},
   "outputs": [
    {
     "name": "stdout",
     "output_type": "stream",
     "text": [
      "Edgar\n",
      "Hermann\n",
      "Jerome David\n"
     ]
    }
   ],
   "source": [
    "# create two list of strings\n",
    "authors = ['Edgar', 'Hermann', 'Jerome David']\n",
    "literature = ['The Raven','Siddhartha', 'The Catcher in the Rye']\n",
    "\n",
    "# create a for loop that prints each element of the list\n",
    "for author in authors:\n",
    "    print(author)"
   ]
  },
  {
   "cell_type": "code",
   "execution_count": 135,
   "id": "f3a4d3cb",
   "metadata": {},
   "outputs": [
    {
     "name": "stdout",
     "output_type": "stream",
     "text": [
      "Edgar wrote The Raven\n",
      "Hermann wrote Siddhartha\n",
      "Jerome David wrote The Catcher in the Rye\n"
     ]
    }
   ],
   "source": [
    "# iterate through two lists with zip\n",
    "for a, l in zip(authors, literature):\n",
    "    print('{} wrote {}'.format(a, l))"
   ]
  },
  {
   "cell_type": "code",
   "execution_count": 131,
   "id": "41849888",
   "metadata": {
    "scrolled": true
   },
   "outputs": [
    {
     "name": "stdout",
     "output_type": "stream",
     "text": [
      "Edgar wrote The Raven\n",
      "Edgar wrote Siddhartha\n",
      "Edgar wrote The Catcher in the Rye\n",
      "Hermann wrote The Raven\n",
      "Hermann wrote Siddhartha\n",
      "Hermann wrote The Catcher in the Rye\n",
      "Jerome David wrote The Raven\n",
      "Jerome David wrote Siddhartha\n",
      "Jerome David wrote The Catcher in the Rye\n"
     ]
    }
   ],
   "source": [
    "# \n",
    "for x in authors:\n",
    "    for y in literature:\n",
    "        print('{} wrote {}'.format(x, y))"
   ]
  },
  {
   "cell_type": "markdown",
   "id": "d9cbf02b",
   "metadata": {},
   "source": [
    "The repetitive nature of loops allow us to create a new list from an old list"
   ]
  },
  {
   "cell_type": "code",
   "execution_count": 147,
   "id": "6e8032e1",
   "metadata": {},
   "outputs": [
    {
     "name": "stdout",
     "output_type": "stream",
     "text": [
      "['The Raven', 'Siddhartha', 'The Catcher in the Rye']\n"
     ]
    }
   ],
   "source": [
    "# create an empty list\n",
    "new_list = []\n",
    "\n",
    "# use for loop to append elements from old list into new list\n",
    "for x in literature:\n",
    "        new_list.append(x)\n",
    "        \n",
    "# print new list\n",
    "print(new_list)"
   ]
  },
  {
   "cell_type": "code",
   "execution_count": null,
   "id": "d9f85c23",
   "metadata": {},
   "outputs": [],
   "source": [
    "# use for loop to append elements into new list based on an if statement\n",
    "for x in literature:\n",
    "    if \"y\" in x:\n",
    "        new_list.append(x)\n",
    "        \n",
    "# print new list\n",
    "print(new_list)"
   ]
  },
  {
   "cell_type": "code",
   "execution_count": 141,
   "id": "eca30d90",
   "metadata": {
    "scrolled": false
   },
   "outputs": [
    {
     "name": "stdout",
     "output_type": "stream",
     "text": [
      "1*1=1\n",
      "2.2*2.2=4.840000000000001\n",
      "3*3=9\n",
      "4.4*4.4=19.360000000000003\n",
      "5*5=25\n",
      "6.6*6.6=43.559999999999995\n",
      "7*7=49\n",
      "8.8*8.8=77.44000000000001\n",
      "9*9=81\n",
      "10.1*10.1=102.00999999999999\n"
     ]
    }
   ],
   "source": [
    "# create a list of numeric data types\n",
    "num_list = [1, 2.2, 3, 4.4, 5, 6.6, 7, 8.8, 9, 10.1]\n",
    "\n",
    "\n",
    "# create a for loop that prints the element times itself\n",
    "# ex. 1*1=1\n",
    "#     2*2=4...\n",
    "for x in num_list:\n",
    "    y = x * x\n",
    "    print(str(x) + '*' + str(x) + '=' + str(y))"
   ]
  },
  {
   "cell_type": "markdown",
   "id": "dcbc6cef",
   "metadata": {},
   "source": [
    "## while Loops"
   ]
  },
  {
   "cell_type": "markdown",
   "id": "e929a404",
   "metadata": {},
   "source": [
    "`while` loops are another iteration tool we can use to repeat a certain block of code.\n",
    "\n",
    "As a loop, `while` loops will continue to loop through an action or block of code until some condition is met, here we utilize some operation on the iterator variable to meet the condition:"
   ]
  },
  {
   "cell_type": "code",
   "execution_count": 65,
   "id": "c4b4d0b1",
   "metadata": {},
   "outputs": [
    {
     "name": "stdout",
     "output_type": "stream",
     "text": [
      "i is: 1\n",
      "i is: 2\n",
      "i is: 3\n",
      "i is: 4\n"
     ]
    }
   ],
   "source": [
    "# create a while loop\n",
    "i = 1\n",
    "while i < 5:\n",
    "    print('i is: {}'.format(i))\n",
    "    i = i+1"
   ]
  },
  {
   "cell_type": "markdown",
   "id": "bdb1b555",
   "metadata": {},
   "source": [
    "## `.range()`"
   ]
  },
  {
   "cell_type": "markdown",
   "id": "920eb17f",
   "metadata": {},
   "source": [
    "The `.range()` function creates a sequence of integers. \n",
    "\n",
    "As input the function requires a stop value to end the sequence, and by default begins at `0`. The `start` parameter sets the initial integer, and the `step` parameter sets the value of increments."
   ]
  },
  {
   "cell_type": "code",
   "execution_count": 66,
   "id": "35b57190",
   "metadata": {},
   "outputs": [
    {
     "data": {
      "text/plain": [
       "range(0, 5)"
      ]
     },
     "execution_count": 66,
     "metadata": {},
     "output_type": "execute_result"
    }
   ],
   "source": [
    "# create a range object\n",
    "range(5)"
   ]
  },
  {
   "cell_type": "code",
   "execution_count": 138,
   "id": "60a92ced",
   "metadata": {},
   "outputs": [
    {
     "name": "stdout",
     "output_type": "stream",
     "text": [
      "1\n",
      "2\n",
      "3\n",
      "4\n"
     ]
    }
   ],
   "source": [
    "# iterate through a range object\n",
    "for i in range(1, 5):\n",
    "    print(i)"
   ]
  },
  {
   "cell_type": "code",
   "execution_count": 68,
   "id": "349ca7ac",
   "metadata": {},
   "outputs": [
    {
     "data": {
      "text/plain": [
       "[0, 1, 2, 3, 4]"
      ]
     },
     "execution_count": 68,
     "metadata": {},
     "output_type": "execute_result"
    }
   ],
   "source": [
    "# create a list from a range\n",
    "list(range(5))"
   ]
  },
  {
   "cell_type": "code",
   "execution_count": 139,
   "id": "66e757ff",
   "metadata": {},
   "outputs": [
    {
     "name": "stdout",
     "output_type": "stream",
     "text": [
      "0\n",
      "2\n",
      "4\n",
      "6\n",
      "8\n",
      "10\n",
      "12\n",
      "14\n",
      "16\n",
      "18\n",
      "20\n",
      "22\n",
      "24\n",
      "26\n",
      "28\n",
      "30\n"
     ]
    }
   ],
   "source": [
    "# iterate through a range while utilizing the step size parameter\n",
    "for x in range(0,32,2):\n",
    "    print(x)"
   ]
  },
  {
   "cell_type": "markdown",
   "id": "56c2cfc4",
   "metadata": {},
   "source": [
    "## list comprehension"
   ]
  },
  {
   "cell_type": "markdown",
   "id": "426eec5b",
   "metadata": {},
   "source": [
    "Recall that the repetitive nature of loops allow us to create a new list from an old list\n",
    "\n",
    "With list comprehension, we can create a new list from an old list with a more concise syntax where:\n",
    "\n",
    "`newlist` = [expression `for` item `in` iterable]\n",
    "\n",
    "and with a conditional:\n",
    "\n",
    "`newlist` = [expression `for` item `in` iterable `if` condition == `True`]"
   ]
  },
  {
   "cell_type": "code",
   "execution_count": 148,
   "id": "d34d0e78",
   "metadata": {},
   "outputs": [
    {
     "name": "stdout",
     "output_type": "stream",
     "text": [
      "['The Raven', 'Siddhartha', 'The Catcher in the Rye']\n"
     ]
    }
   ],
   "source": [
    "# create an empty list\n",
    "new_list = []\n",
    "\n",
    "# use for loop to append elements from old list into new list\n",
    "for x in literature:\n",
    "        new_list.append(x)\n",
    "        \n",
    "# print new list\n",
    "print(new_list)"
   ]
  },
  {
   "cell_type": "code",
   "execution_count": 149,
   "id": "5f58eb13",
   "metadata": {},
   "outputs": [
    {
     "name": "stdout",
     "output_type": "stream",
     "text": [
      "['The Raven', 'Siddhartha', 'The Catcher in the Rye']\n"
     ]
    }
   ],
   "source": [
    "# reset list to empty\n",
    "new_list = []\n",
    "\n",
    "# recreate list with list comprehension\n",
    "new_list = [x for x in literature]\n",
    "\n",
    "# print list\n",
    "print(new_list)"
   ]
  },
  {
   "cell_type": "code",
   "execution_count": 151,
   "id": "f3b467ca",
   "metadata": {},
   "outputs": [
    {
     "data": {
      "text/plain": [
       "['The Catcher in the Rye']"
      ]
     },
     "execution_count": 151,
     "metadata": {},
     "output_type": "execute_result"
    }
   ],
   "source": [
    "# use list comprehension with a conditional\n",
    "new_list = [x for x in literature if \"y\" in x]\n",
    "\n",
    "# print list\n",
    "new_list"
   ]
  },
  {
   "cell_type": "code",
   "execution_count": 152,
   "id": "f6b1d2ef",
   "metadata": {},
   "outputs": [
    {
     "data": {
      "text/plain": [
       "['THE RAVEN', 'SIDDHARTHA', 'THE CATCHER IN THE RYE']"
      ]
     },
     "execution_count": 152,
     "metadata": {},
     "output_type": "execute_result"
    }
   ],
   "source": [
    "# apply method to capitalize the elements in list with \n",
    "# list comprehension\n",
    "new_list = [x.upper() for x in literature]\n",
    "new_list"
   ]
  },
  {
   "cell_type": "markdown",
   "id": "cb56cd0c",
   "metadata": {
    "collapsed": true
   },
   "source": [
    "We can use list comprehension to perform an arithmetic operation much like we would with `for` loop:"
   ]
  },
  {
   "cell_type": "code",
   "execution_count": 154,
   "id": "ab1429aa",
   "metadata": {},
   "outputs": [
    {
     "name": "stdout",
     "output_type": "stream",
     "text": [
      "[1, 4.840000000000001, 9, 19.360000000000003, 25, 43.559999999999995, 49, 77.44000000000001, 81, 102.00999999999999]\n"
     ]
    }
   ],
   "source": [
    "# create a list of numeric data types\n",
    "num_list = [1, 2.2, 3, 4.4, 5, 6.6, 7, 8.8, 9, 10.1]\n",
    "\n",
    "# create an empty list\n",
    "squares = []\n",
    "\n",
    "# use for loop to square elements\n",
    "# in numeric list\n",
    "for num in num_list:\n",
    "    squares.append(num**2)\n",
    "print(squares)"
   ]
  },
  {
   "cell_type": "code",
   "execution_count": 155,
   "id": "5ba081e9",
   "metadata": {
    "scrolled": true
   },
   "outputs": [
    {
     "data": {
      "text/plain": [
       "[1,\n",
       " 4.840000000000001,\n",
       " 9,\n",
       " 19.360000000000003,\n",
       " 25,\n",
       " 43.559999999999995,\n",
       " 49,\n",
       " 77.44000000000001,\n",
       " 81,\n",
       " 102.00999999999999]"
      ]
     },
     "execution_count": 155,
     "metadata": {},
     "output_type": "execute_result"
    }
   ],
   "source": [
    "# use list comprehension to sqaure\n",
    "# elements in numeric list\n",
    "[num**2 for num in num_list]"
   ]
  },
  {
   "cell_type": "markdown",
   "id": "6899bb39",
   "metadata": {},
   "source": [
    "# Functions"
   ]
  },
  {
   "cell_type": "markdown",
   "id": "9477543c",
   "metadata": {},
   "source": [
    "Functions are executable blocks of code, which once defined can be used any number of times. \n",
    "\n",
    "To create a function we first need to define it by using the `def` keyword. \n",
    "\n",
    "There is a space and then the name of the new function. \n",
    "\n",
    "Finally inside parenthesis we call the parameters for the function."
   ]
  },
  {
   "cell_type": "code",
   "execution_count": 193,
   "id": "7601d5f1",
   "metadata": {},
   "outputs": [],
   "source": [
    "# define a function called square\n",
    "def square(input):\n",
    "    \"\"\"\n",
    "    Description\n",
    "    \n",
    "    This function will square a value\n",
    "    \"\"\"\n",
    "    output = input ** 2\n",
    "    # here we return the output varible\n",
    "    return output"
   ]
  },
  {
   "cell_type": "code",
   "execution_count": 194,
   "id": "e15f1951",
   "metadata": {},
   "outputs": [
    {
     "data": {
      "text/plain": [
       "4"
      ]
     },
     "execution_count": 194,
     "metadata": {},
     "output_type": "execute_result"
    }
   ],
   "source": [
    "square(2)"
   ]
  },
  {
   "cell_type": "code",
   "execution_count": 196,
   "id": "0cf36831",
   "metadata": {},
   "outputs": [],
   "source": [
    "# does output exist outside the function?\n",
    "#output"
   ]
  },
  {
   "cell_type": "markdown",
   "id": "a76ec334",
   "metadata": {},
   "source": [
    "Functions can also work on strings:"
   ]
  },
  {
   "cell_type": "code",
   "execution_count": 197,
   "id": "f58e7c02",
   "metadata": {},
   "outputs": [],
   "source": [
    "# create function to add two strings\n",
    "def add_strings(x, y):\n",
    "    return x + ' ' + y"
   ]
  },
  {
   "cell_type": "code",
   "execution_count": 200,
   "id": "2e0fbe53",
   "metadata": {},
   "outputs": [
    {
     "data": {
      "text/plain": [
       "'hello world'"
      ]
     },
     "execution_count": 200,
     "metadata": {},
     "output_type": "execute_result"
    }
   ],
   "source": [
    "add_strings(\"hello\", \"world\")"
   ]
  },
  {
   "cell_type": "markdown",
   "id": "247e5e9d",
   "metadata": {},
   "source": [
    "## `lambda` expressions"
   ]
  },
  {
   "cell_type": "markdown",
   "id": "bb0b3161",
   "metadata": {},
   "source": [
    "`lambda` expressions are single line functions defined with no name and have only one expression, but with any number of arguments.\n",
    "\n",
    "lambda arguments : expression"
   ]
  },
  {
   "cell_type": "code",
   "execution_count": 159,
   "id": "f7a96fd6",
   "metadata": {},
   "outputs": [
    {
     "data": {
      "text/plain": [
       "4"
      ]
     },
     "execution_count": 159,
     "metadata": {},
     "output_type": "execute_result"
    }
   ],
   "source": [
    "# define a function that multiplies a variable by two\n",
    "def mul_two(num):\n",
    "    return num * 2\n",
    "\n",
    "mul_two(2)"
   ]
  },
  {
   "cell_type": "code",
   "execution_count": 160,
   "id": "4f667bf9",
   "metadata": {},
   "outputs": [
    {
     "data": {
      "text/plain": [
       "4"
      ]
     },
     "execution_count": 160,
     "metadata": {},
     "output_type": "execute_result"
    }
   ],
   "source": [
    "# run function on a numeric value\n",
    "mul_two(2)"
   ]
  },
  {
   "cell_type": "markdown",
   "id": "4437cdfb",
   "metadata": {},
   "source": [
    "We can have the same functionality in one line with lambda expressions"
   ]
  },
  {
   "cell_type": "code",
   "execution_count": 158,
   "id": "c8772436",
   "metadata": {},
   "outputs": [
    {
     "name": "stdout",
     "output_type": "stream",
     "text": [
      "4\n"
     ]
    }
   ],
   "source": [
    "# use lambda function to multiply \n",
    "# a variable by two\n",
    "x = lambda var: var*2\n",
    "print(x(2))"
   ]
  },
  {
   "cell_type": "markdown",
   "id": "a11b67d0",
   "metadata": {},
   "source": [
    "We can also multiply one argument with another and return the result:"
   ]
  },
  {
   "cell_type": "code",
   "execution_count": 176,
   "id": "ed163ccd",
   "metadata": {},
   "outputs": [
    {
     "name": "stdout",
     "output_type": "stream",
     "text": [
      "4\n"
     ]
    }
   ],
   "source": [
    "# use a lambda expression to multiply one variable\n",
    "# with another\n",
    "x = lambda a, b : a * b\n",
    "print(x(2, 2))"
   ]
  },
  {
   "cell_type": "markdown",
   "id": "24b6da92",
   "metadata": {},
   "source": [
    "Another advantage of lambda expressions is when we use them as an anonymous function inside of a function.\n",
    "\n",
    "Let's define a function that creates an exponent to a variable"
   ]
  },
  {
   "cell_type": "code",
   "execution_count": null,
   "id": "aec26783",
   "metadata": {},
   "outputs": [],
   "source": [
    "# function to create an exponent\n",
    "def exponent(n):\n",
    "    return lambda  x: x ** n"
   ]
  },
  {
   "cell_type": "markdown",
   "id": "565cf573",
   "metadata": {},
   "source": [
    "Now we can use this function to create a function that raises a number to the fourth power:"
   ]
  },
  {
   "cell_type": "code",
   "execution_count": 192,
   "id": "f6b2d9ca",
   "metadata": {},
   "outputs": [
    {
     "name": "stdout",
     "output_type": "stream",
     "text": [
      "16\n"
     ]
    }
   ],
   "source": [
    "# use the squaring function to raise a number to the fourth power\n",
    "fourth_exp = exponent(4)\n",
    "\n",
    "# test the function\n",
    "print(fourth_exp(2))"
   ]
  },
  {
   "cell_type": "markdown",
   "id": "42784810",
   "metadata": {},
   "source": [
    "## `map` and `filter`"
   ]
  },
  {
   "cell_type": "markdown",
   "id": "1f41c725",
   "metadata": {},
   "source": [
    "The `map` function allows us to take a function and apply it to an iterable, passing each element in the iterable through the function:"
   ]
  },
  {
   "cell_type": "code",
   "execution_count": null,
   "id": "28919300",
   "metadata": {},
   "outputs": [],
   "source": [
    "# define a function that multiplies a variable by two\n",
    "def mul_two(num):\n",
    "    return num * 2"
   ]
  },
  {
   "cell_type": "code",
   "execution_count": 83,
   "id": "789aa574",
   "metadata": {
    "collapsed": true
   },
   "outputs": [],
   "source": [
    "# create a list of numbers\n",
    "num_list = [1, 2.2, 3, 4.4, 5, 6.6, 7, 8.8, 9, 10.1]"
   ]
  },
  {
   "cell_type": "code",
   "execution_count": 202,
   "id": "951f0455",
   "metadata": {},
   "outputs": [
    {
     "data": {
      "text/plain": [
       "<map at 0x7fc7f8f27ca0>"
      ]
     },
     "execution_count": 202,
     "metadata": {},
     "output_type": "execute_result"
    }
   ],
   "source": [
    "# apply a function to a list with map\n",
    "map(mul_two, num_list)"
   ]
  },
  {
   "cell_type": "markdown",
   "id": "6f8c52c3",
   "metadata": {},
   "source": [
    "This gives us the map object's location. To access the data we change the type of the object from `map` to `list`:"
   ]
  },
  {
   "cell_type": "code",
   "execution_count": 205,
   "id": "1e735dc3",
   "metadata": {},
   "outputs": [
    {
     "data": {
      "text/plain": [
       "[2, 4.4, 6, 8.8, 10, 13.2, 14, 17.6, 18, 20.2]"
      ]
     },
     "execution_count": 205,
     "metadata": {},
     "output_type": "execute_result"
    }
   ],
   "source": [
    "# create a list of numbers multiplied by two using map\n",
    "list(map(mul_two,num_list))"
   ]
  },
  {
   "cell_type": "markdown",
   "id": "fd265e90",
   "metadata": {},
   "source": [
    "`map` can also be used with `lambda` expressions"
   ]
  },
  {
   "cell_type": "code",
   "execution_count": 208,
   "id": "b6951b2b",
   "metadata": {},
   "outputs": [
    {
     "data": {
      "text/plain": [
       "[2, 4.4, 6, 8.8, 10, 13.2, 14, 17.6, 18, 20.2]"
      ]
     },
     "execution_count": 208,
     "metadata": {},
     "output_type": "execute_result"
    }
   ],
   "source": [
    "# create a list of numbers multiplied by two\n",
    "# using lambda expressions, and map\n",
    "list(map(lambda num: num * 2,num_list))"
   ]
  },
  {
   "cell_type": "markdown",
   "id": "70dfb299",
   "metadata": {},
   "source": [
    "`filter` allows us to filter an interable based on a boolean value returned from a function. This effectively filters out any values that are false.\n",
    "\n",
    "Notice that because we are using a `bool`, we include some conditional when using `filter`."
   ]
  },
  {
   "cell_type": "code",
   "execution_count": 217,
   "id": "6511c880",
   "metadata": {
    "scrolled": true
   },
   "outputs": [
    {
     "data": {
      "text/plain": [
       "[1, 2.2, 3, 4.4]"
      ]
     },
     "execution_count": 217,
     "metadata": {},
     "output_type": "execute_result"
    }
   ],
   "source": [
    "# create a list of numbers less than 5 with filter\n",
    "list(filter(lambda x: x < 5,num_list))"
   ]
  },
  {
   "cell_type": "code",
   "execution_count": 214,
   "id": "d3c54660",
   "metadata": {},
   "outputs": [
    {
     "data": {
      "text/plain": [
       "[1, 3, 5, 7, 9]"
      ]
     },
     "execution_count": 214,
     "metadata": {},
     "output_type": "execute_result"
    }
   ],
   "source": [
    "# create a list of odd numbers from numeric list\n",
    "# using modulo and filter\n",
    "list(filter(lambda item: item%1 == 0,num_list))"
   ]
  },
  {
   "cell_type": "markdown",
   "id": "57d9ab74",
   "metadata": {},
   "source": [
    "# Exercises\n",
    "\n",
    "Answer the following questions:"
   ]
  },
  {
   "cell_type": "markdown",
   "id": "3cd71e27",
   "metadata": {},
   "source": [
    "1. **Create a function that counts the number of times the word \"car\" occurs in a sentence, ignoring edge cases**"
   ]
  },
  {
   "cell_type": "code",
   "execution_count": 224,
   "id": "2dcd6809",
   "metadata": {},
   "outputs": [],
   "source": [
    "# define function\n",
    "def countCar(sentence):\n",
    "    count = 0\n",
    "    \n",
    "    for word in sentence.lower().split():\n",
    "        if word == 'car':\n",
    "            count += 1\n",
    "    return count"
   ]
  },
  {
   "cell_type": "code",
   "execution_count": 227,
   "id": "bf718e1c",
   "metadata": {},
   "outputs": [
    {
     "data": {
      "text/plain": [
       "2"
      ]
     },
     "execution_count": 227,
     "metadata": {},
     "output_type": "execute_result"
    }
   ],
   "source": [
    "# test function\n",
    "countCar('It was my first car and my DREAM CAR')"
   ]
  },
  {
   "cell_type": "markdown",
   "id": "153f181e",
   "metadata": {},
   "source": [
    "2 **Given this nested list, use indexing to grab the string \"ff\"**"
   ]
  },
  {
   "cell_type": "code",
   "execution_count": 228,
   "id": "619a5ab1",
   "metadata": {},
   "outputs": [],
   "source": [
    "# nested list\n",
    "nested_list = ['a', ['bb', ['ccc', 'ddd'], 'ee', 'ff'], 'g', 'h']"
   ]
  },
  {
   "cell_type": "code",
   "execution_count": 233,
   "id": "7f8db8fd",
   "metadata": {},
   "outputs": [
    {
     "name": "stdout",
     "output_type": "stream",
     "text": [
      "ff\n"
     ]
    }
   ],
   "source": [
    "# retrieve \"ff\"\n",
    "print(nested_list[1][3])"
   ]
  },
  {
   "cell_type": "markdown",
   "id": "4bf04f6f",
   "metadata": {},
   "source": [
    "### Final Problem\n",
    "**You are driving a little too fast, and a police officer stops you. Write a function\n",
    "  to return one of 3 possible results: \"No ticket\", \"Small ticket\", or \"Big Ticket\". \n",
    "  If your speed is 60 or less, the result is \"No Ticket\". If speed is between 61 \n",
    "  and 80 inclusive, the result is \"Small Ticket\". If speed is 81 or more, the result is \"Big    Ticket\". Unless it is your birthday (encoded as a boolean value in the parameters of the function) -- on your birthday, your speed can be 5 higher in all \n",
    "  cases. **"
   ]
  },
  {
   "cell_type": "code",
   "execution_count": 235,
   "id": "9f5e239a",
   "metadata": {},
   "outputs": [],
   "source": [
    "# create function\n",
    "def caught_speeding(speed, is_birthday):\n",
    "    \n",
    "    if is_birthday:\n",
    "        speeding = speed - 5\n",
    "    else:\n",
    "        speeding = speed\n",
    "    \n",
    "    if speeding > 80:\n",
    "        return 'Big Ticket'\n",
    "    elif speeding > 60:\n",
    "        return 'Small Ticket'\n",
    "    else:\n",
    "        return 'No Ticket'"
   ]
  },
  {
   "cell_type": "code",
   "execution_count": 242,
   "id": "9f0ca2ba",
   "metadata": {},
   "outputs": [
    {
     "data": {
      "text/plain": [
       "'No Ticket'"
      ]
     },
     "execution_count": 242,
     "metadata": {},
     "output_type": "execute_result"
    }
   ],
   "source": [
    "# test function\n",
    "caught_speeding(65, 1)"
   ]
  },
  {
   "cell_type": "code",
   "execution_count": null,
   "id": "f3d810fa",
   "metadata": {},
   "outputs": [],
   "source": []
  }
 ],
 "metadata": {
  "kernelspec": {
   "display_name": "Python 3 (ipykernel)",
   "language": "python",
   "name": "python3"
  },
  "language_info": {
   "codemirror_mode": {
    "name": "ipython",
    "version": 3
   },
   "file_extension": ".py",
   "mimetype": "text/x-python",
   "name": "python",
   "nbconvert_exporter": "python",
   "pygments_lexer": "ipython3",
   "version": "3.9.7"
  },
  "toc": {
   "base_numbering": 1,
   "nav_menu": {},
   "number_sections": true,
   "sideBar": true,
   "skip_h1_title": false,
   "title_cell": "Table of Contents",
   "title_sidebar": "Contents",
   "toc_cell": false,
   "toc_position": {
    "height": "calc(100% - 180px)",
    "left": "10px",
    "top": "150px",
    "width": "309.594px"
   },
   "toc_section_display": true,
   "toc_window_display": true
  }
 },
 "nbformat": 4,
 "nbformat_minor": 5
}
