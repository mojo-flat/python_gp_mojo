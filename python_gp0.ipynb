{
 "cells": [
  {
   "cell_type": "markdown",
   "id": "3a576266",
   "metadata": {},
   "source": [
    "# Python Guided Practice"
   ]
  },
  {
   "cell_type": "markdown",
   "id": "7646dcfc",
   "metadata": {},
   "source": [
    "***"
   ]
  },
  {
   "cell_type": "markdown",
   "id": "454de8f2",
   "metadata": {},
   "source": [
    "### GP Goals\n",
    "\n",
    "Explore basic to intermediate Python including:\n",
    "\n",
    "- Data Types\n",
    "- Operators\n",
    "- Conditional Statements\n",
    "- Iteration\n",
    "- Functions & Methods"
   ]
  },
  {
   "cell_type": "code",
   "execution_count": 1,
   "id": "861b5158",
   "metadata": {},
   "outputs": [],
   "source": [
    "# great resource\n",
    "# https://pythonbasics.org/"
   ]
  },
  {
   "cell_type": "markdown",
   "id": "b71188f6",
   "metadata": {},
   "source": [
    "## Tile Matching Examples"
   ]
  },
  {
   "cell_type": "markdown",
   "id": "8d5e42e8",
   "metadata": {},
   "source": [
    "# Data types"
   ]
  },
  {
   "cell_type": "markdown",
   "id": "04ec94d5",
   "metadata": {},
   "source": [
    "There are a number of varous data types to work with in pandas. These each will correspond to s certain variable type.\n",
    "\n",
    "For instance, when working with quantitative data where one would want to perform some mathematical operation, the appropriate data types could be `int` or `float`.\n",
    "\n",
    "On the other hand if working with categorical variables, the `str` data type can be useful.\n",
    "\n",
    "Python by default will assign a datatype based on the value assigned to a variable.\n",
    "\n",
    "In python, a variable name must start with a letter or an underscore (not a number), and are case sensitive."
   ]
  },
  {
   "cell_type": "code",
   "execution_count": 2,
   "id": "d3c34590",
   "metadata": {},
   "outputs": [],
   "source": [
    "#type()"
   ]
  },
  {
   "cell_type": "markdown",
   "id": "236ba10b",
   "metadata": {},
   "source": [
    "## Text Type"
   ]
  },
  {
   "cell_type": "markdown",
   "id": "1a9671a6",
   "metadata": {},
   "source": [
    "Text data types are made of you guessed it, characters or text and in python are referenced as `str` or `object`. \n",
    "\n",
    "There are a wide number of methods that can be used on strings. Let's go over a few.\n",
    "    \n",
    "- String indexing\n",
    "- Sub string\n",
    "- Replace method\n",
    "- Number of words to replace\n"
   ]
  },
  {
   "cell_type": "markdown",
   "id": "b4f27bc1",
   "metadata": {},
   "source": [
    "### string `str`"
   ]
  },
  {
   "cell_type": "markdown",
   "id": "9913238c",
   "metadata": {},
   "source": [
    "Strings are characterized in python by their quotation marks. Both single and double quotes function to indicate a variable is a string."
   ]
  },
  {
   "cell_type": "code",
   "execution_count": 3,
   "id": "c72d5df9",
   "metadata": {},
   "outputs": [],
   "source": [
    "# single quote string\n"
   ]
  },
  {
   "cell_type": "code",
   "execution_count": 4,
   "id": "495b26c0",
   "metadata": {},
   "outputs": [],
   "source": [
    "# double quote string\n"
   ]
  },
  {
   "cell_type": "code",
   "execution_count": 5,
   "id": "863fbd83",
   "metadata": {},
   "outputs": [],
   "source": [
    "# single quote in double quote string\n"
   ]
  },
  {
   "cell_type": "code",
   "execution_count": 6,
   "id": "2fb54918",
   "metadata": {},
   "outputs": [],
   "source": [
    "# check type of a string\n"
   ]
  },
  {
   "cell_type": "code",
   "execution_count": 7,
   "id": "c22a9b9c",
   "metadata": {},
   "outputs": [
    {
     "data": {
      "text/plain": [
       "str"
      ]
     },
     "execution_count": 7,
     "metadata": {},
     "output_type": "execute_result"
    }
   ],
   "source": [
    "# Merry Christmas Martha\n",
    "x = \"Martha\"\n",
    "y = \"Christmas\"\n",
    "type(x)"
   ]
  },
  {
   "cell_type": "markdown",
   "id": "a49a01db",
   "metadata": {},
   "source": [
    "### `.print()`"
   ]
  },
  {
   "cell_type": "markdown",
   "id": "1b1f051f",
   "metadata": {},
   "source": [
    "The `print()` function will print the input value, it can be useful for displaying the text of a string."
   ]
  },
  {
   "cell_type": "code",
   "execution_count": 8,
   "id": "125f219a",
   "metadata": {
    "scrolled": true
   },
   "outputs": [
    {
     "name": "stdout",
     "output_type": "stream",
     "text": [
      "Martha\n"
     ]
    }
   ],
   "source": [
    "# print previous string\n",
    "print(x)"
   ]
  },
  {
   "cell_type": "markdown",
   "id": "36999ca5",
   "metadata": {},
   "source": [
    "### String Concatenation"
   ]
  },
  {
   "cell_type": "markdown",
   "id": "58e790c6",
   "metadata": {},
   "source": [
    "Combining strings is called string concatenation. \n",
    "\n",
    "We can perform string concatenation using following ways:\n",
    " \n",
    "\n",
    "- Using + operator \n",
    " \n",
    "- Using `.join()` method \n",
    " \n",
    "- Using % operator \n",
    " \n",
    "- Using the `.format()` function "
   ]
  },
  {
   "cell_type": "markdown",
   "id": "7446a1c4",
   "metadata": {},
   "source": [
    "##### `+`"
   ]
  },
  {
   "cell_type": "code",
   "execution_count": 9,
   "id": "7deca87f",
   "metadata": {},
   "outputs": [],
   "source": [
    "# string concatenation\n"
   ]
  },
  {
   "cell_type": "markdown",
   "id": "83480d9d",
   "metadata": {},
   "source": [
    "##### `.join()`"
   ]
  },
  {
   "cell_type": "code",
   "execution_count": 10,
   "id": "c1185327",
   "metadata": {},
   "outputs": [],
   "source": [
    "# define strings                                                         \n",
    "\n",
    "\n",
    "# define our sequence tuple                                                    \n",
    "\n",
    "\n",
    "# join strings into new string with no space in between                                                  \n",
    "\n",
    "\n",
    "# print string\n"
   ]
  },
  {
   "cell_type": "code",
   "execution_count": 11,
   "id": "c516f817",
   "metadata": {},
   "outputs": [],
   "source": [
    "# join strings into new string with a space in between                                                  \n",
    "\n",
    "\n",
    "# print string\n"
   ]
  },
  {
   "cell_type": "code",
   "execution_count": 12,
   "id": "afab632a",
   "metadata": {},
   "outputs": [],
   "source": [
    "# concatenate string elements in a list\n"
   ]
  },
  {
   "cell_type": "markdown",
   "id": "68badb5c",
   "metadata": {},
   "source": [
    "##### `%`"
   ]
  },
  {
   "cell_type": "markdown",
   "id": "bf251dc9",
   "metadata": {},
   "source": [
    "When using the %(modulo) Operator the `%s` denotes string data type. The value in both variables is then passed to the string in place of `%s`."
   ]
  },
  {
   "cell_type": "code",
   "execution_count": 13,
   "id": "b96497cf",
   "metadata": {},
   "outputs": [],
   "source": [
    "# % Operator is used here to combine the string\n"
   ]
  },
  {
   "cell_type": "code",
   "execution_count": 14,
   "id": "a13aa26f",
   "metadata": {},
   "outputs": [],
   "source": [
    "# % Operator is used here to combine the string\n"
   ]
  },
  {
   "cell_type": "markdown",
   "id": "0e89e122",
   "metadata": {},
   "source": [
    "##### `.format()`"
   ]
  },
  {
   "cell_type": "markdown",
   "id": "faadc5f4",
   "metadata": {},
   "source": [
    "`str.format()` is a string formatting method that allows us to concatenate elements within a string with positional formatting.\n",
    "\n",
    "Here `{}` curly brackets are used to indicate where a string element should be placed within the string."
   ]
  },
  {
   "cell_type": "code",
   "execution_count": 15,
   "id": "bb77fd0c",
   "metadata": {},
   "outputs": [],
   "source": [
    "# string concatenation with .format()\n"
   ]
  },
  {
   "cell_type": "markdown",
   "id": "2fb74933",
   "metadata": {},
   "source": [
    "### `.split()`"
   ]
  },
  {
   "cell_type": "markdown",
   "id": "b0f47203",
   "metadata": {},
   "source": [
    "Just as we can add strings together, we can split them in a similar fashion with the `.split()` method.\n",
    "\n",
    "Here we can split a string on any character or group of characters, `.split()` defaults to splitting a string on the whitespace."
   ]
  },
  {
   "cell_type": "code",
   "execution_count": 16,
   "id": "c6d503fa",
   "metadata": {},
   "outputs": [],
   "source": [
    "# create a string\n",
    "\n",
    "\n",
    "# split the string into a list\n",
    "\n",
    "\n",
    "# print the new list\n"
   ]
  },
  {
   "cell_type": "code",
   "execution_count": 17,
   "id": "4dfb620a",
   "metadata": {},
   "outputs": [],
   "source": [
    "# print length of original string\n",
    "\n",
    "\n",
    "# print length of list\n"
   ]
  },
  {
   "cell_type": "markdown",
   "id": "f4a2de47",
   "metadata": {},
   "source": [
    "### `.replace()`"
   ]
  },
  {
   "cell_type": "markdown",
   "id": "b17f1b80",
   "metadata": {},
   "source": [
    "It is also possible to replace strings. An effective method for replacing strings is `.replace()`.\n",
    "\n",
    "`.replace()` takes in the `old_string` as its first parameter and the `new_string` as its second parameter."
   ]
  },
  {
   "cell_type": "code",
   "execution_count": 18,
   "id": "4b3aee6a",
   "metadata": {},
   "outputs": [],
   "source": [
    "# create a string (sentence)\n",
    "\n",
    "\n",
    "# replace Martha with Grinch\n",
    "\n",
    "\n",
    "# print string\n"
   ]
  },
  {
   "cell_type": "markdown",
   "id": "d952fe1d",
   "metadata": {},
   "source": [
    "## Numeric Type"
   ]
  },
  {
   "cell_type": "markdown",
   "id": "84cac83c",
   "metadata": {},
   "source": [
    "Let's take a look at how to work with quatititative variables in python.\n",
    "\n",
    "In this notebook we will explore integer and float values."
   ]
  },
  {
   "cell_type": "markdown",
   "id": "8e2bf0d3",
   "metadata": {},
   "source": [
    "### integer `int`"
   ]
  },
  {
   "cell_type": "markdown",
   "id": "6343fc2b",
   "metadata": {},
   "source": [
    "As the name suggests, the `int` data type allows us to work with integer values in python. \n",
    "\n",
    "With `int`s we can perform arithmetic operations and perform statisical analysis vital to data science and machine learning."
   ]
  },
  {
   "cell_type": "code",
   "execution_count": 19,
   "id": "d6799fd9",
   "metadata": {},
   "outputs": [],
   "source": [
    "# return the type of an integer\n"
   ]
  },
  {
   "cell_type": "code",
   "execution_count": 20,
   "id": "44c1d217",
   "metadata": {},
   "outputs": [],
   "source": [
    "# add that integer to itself\n"
   ]
  },
  {
   "cell_type": "code",
   "execution_count": 21,
   "id": "4f9ed01e",
   "metadata": {},
   "outputs": [],
   "source": [
    "# set that integer to a variable\n"
   ]
  },
  {
   "cell_type": "code",
   "execution_count": 22,
   "id": "b648ef79",
   "metadata": {},
   "outputs": [],
   "source": [
    "# add that variable to itself\n"
   ]
  },
  {
   "cell_type": "markdown",
   "id": "e201517f",
   "metadata": {},
   "source": [
    "### float `float`"
   ]
  },
  {
   "cell_type": "markdown",
   "id": "03878894",
   "metadata": {},
   "source": [
    "When working with decimal values, we use the `float` or floating point data type. We can effectivly perform all the same arthmetic operations we can perform on `int` on `float` as well."
   ]
  },
  {
   "cell_type": "code",
   "execution_count": 23,
   "id": "79be9640",
   "metadata": {},
   "outputs": [],
   "source": [
    "# create a float variable where\n",
    "# integer.variable+variable\n"
   ]
  },
  {
   "cell_type": "markdown",
   "id": "5b2d0f17",
   "metadata": {},
   "source": [
    "### arithmetic operations"
   ]
  },
  {
   "cell_type": "code",
   "execution_count": 24,
   "id": "86483f84",
   "metadata": {},
   "outputs": [],
   "source": [
    "# multiply that float by itself and check the type\n",
    "# of the output\n"
   ]
  },
  {
   "cell_type": "code",
   "execution_count": 25,
   "id": "87dcfe5b",
   "metadata": {
    "scrolled": true
   },
   "outputs": [],
   "source": [
    "# create a float value from an operation on two integers\n"
   ]
  },
  {
   "cell_type": "code",
   "execution_count": 26,
   "id": "43943248",
   "metadata": {},
   "outputs": [],
   "source": [
    "# explore exponential operations\n"
   ]
  },
  {
   "cell_type": "code",
   "execution_count": 27,
   "id": "ec132a1c",
   "metadata": {},
   "outputs": [],
   "source": [
    "# use modulo to return remainder of division\n"
   ]
  },
  {
   "cell_type": "code",
   "execution_count": 28,
   "id": "41e93cd9",
   "metadata": {},
   "outputs": [],
   "source": [
    "# create an example of order of operations\n"
   ]
  },
  {
   "cell_type": "markdown",
   "id": "d9907db9",
   "metadata": {},
   "source": [
    "## `list`"
   ]
  },
  {
   "cell_type": "markdown",
   "id": "4a8d93e0",
   "metadata": {},
   "source": [
    "Lists are used to store multiple items in a single variable, and are one of the most common data types to use in data analysis.\n",
    "\n",
    "Lists are mutable stores of data. Other data types that are designed to store collections of data, which are referred to as **iterables** are:\n",
    "\n",
    "- Tuples\n",
    "- Sets\n",
    "- Dictionaries\n",
    "\n",
    "Notice that we can create a list with square brackets:"
   ]
  },
  {
   "cell_type": "code",
   "execution_count": 29,
   "id": "6781df47",
   "metadata": {},
   "outputs": [],
   "source": [
    "# create a new list with square brackets\n"
   ]
  },
  {
   "cell_type": "code",
   "execution_count": 30,
   "id": "db8a2935",
   "metadata": {},
   "outputs": [],
   "source": [
    "# create a new list with the list method\n"
   ]
  },
  {
   "cell_type": "markdown",
   "id": "4885d9b2",
   "metadata": {},
   "source": [
    "Notice that a list can contain elements with various data types, a list can even contain a list as an element. This is refererred to as a nested list."
   ]
  },
  {
   "cell_type": "code",
   "execution_count": 31,
   "id": "e32e7f15",
   "metadata": {},
   "outputs": [],
   "source": [
    "# create a list with a nested list inside of a nested list\n"
   ]
  },
  {
   "cell_type": "markdown",
   "id": "990e0146",
   "metadata": {},
   "source": [
    "### indexing"
   ]
  },
  {
   "cell_type": "markdown",
   "id": "cbeea29e",
   "metadata": {},
   "source": [
    "We can access a list element by performing indexing.\n",
    "\n",
    "Here we use brackets and the element's index, or position in the list. \n",
    "\n",
    "In python we start our counts with `0`, so the first element of a list always has the index `0`."
   ]
  },
  {
   "cell_type": "code",
   "execution_count": 32,
   "id": "7dff2809",
   "metadata": {},
   "outputs": [],
   "source": [
    "# return the first element of the previous list\n"
   ]
  },
  {
   "cell_type": "code",
   "execution_count": 33,
   "id": "51544d20",
   "metadata": {},
   "outputs": [],
   "source": [
    "# return the outer nested list from the previous list\n"
   ]
  },
  {
   "cell_type": "code",
   "execution_count": 34,
   "id": "66ebf137",
   "metadata": {},
   "outputs": [],
   "source": [
    "# return the inner nested list from the previous list\n"
   ]
  },
  {
   "cell_type": "markdown",
   "id": "ce85b5c7",
   "metadata": {},
   "source": [
    "## slicing"
   ]
  },
  {
   "cell_type": "markdown",
   "id": "031ce240",
   "metadata": {},
   "source": [
    "We can also perform slicing to return a subset of elements from a list based on their indices:"
   ]
  },
  {
   "cell_type": "code",
   "execution_count": 35,
   "id": "685b05bf",
   "metadata": {},
   "outputs": [],
   "source": [
    "# return only the first three elements of the string\n"
   ]
  },
  {
   "cell_type": "code",
   "execution_count": 36,
   "id": "af225878",
   "metadata": {},
   "outputs": [],
   "source": [
    "# return only the 4 - 6 element of the list\n",
    "# if list not long enough recreate list\n"
   ]
  },
  {
   "cell_type": "markdown",
   "id": "d6d75175",
   "metadata": {},
   "source": [
    "We can set a new value to an element in a list with indexing also:"
   ]
  },
  {
   "cell_type": "code",
   "execution_count": null,
   "id": "ff133602",
   "metadata": {},
   "outputs": [],
   "source": []
  },
  {
   "cell_type": "markdown",
   "id": "250d7106",
   "metadata": {},
   "source": [
    "## `.append()`"
   ]
  },
  {
   "cell_type": "markdown",
   "id": "4cf4ae95",
   "metadata": {},
   "source": [
    "We can perform methods on lists in order to alter them. A common desire is to add an element to a list, which we can acheive by calling the `.append()` method which will add an element of any type to the end of a list:"
   ]
  },
  {
   "cell_type": "code",
   "execution_count": 37,
   "id": "83a7124d",
   "metadata": {},
   "outputs": [],
   "source": [
    "# add a new element to the end of the list\n"
   ]
  },
  {
   "cell_type": "code",
   "execution_count": 38,
   "id": "09761baa",
   "metadata": {},
   "outputs": [],
   "source": [
    "# return the last element of the list with indexing\n"
   ]
  },
  {
   "cell_type": "markdown",
   "id": "68aa4c28",
   "metadata": {},
   "source": [
    "## `.pop()`"
   ]
  },
  {
   "cell_type": "markdown",
   "id": "2dc06bcf",
   "metadata": {},
   "source": [
    "When we want to remove an element from a list, we can call the `.pop()` method. \n",
    "\n",
    "This method will remove an element from the end of a list:"
   ]
  },
  {
   "cell_type": "code",
   "execution_count": 39,
   "id": "94a1e2fb",
   "metadata": {},
   "outputs": [],
   "source": [
    "# remove last element of the list\n"
   ]
  },
  {
   "cell_type": "markdown",
   "id": "5b3ae0a2",
   "metadata": {},
   "source": [
    "## `list` operations"
   ]
  },
  {
   "cell_type": "markdown",
   "id": "3044c252",
   "metadata": {},
   "source": [
    "There are also a number of arithmetic methods we can perform on a list if it only contains numeric data types, for instance we can return the sum of the elements, as well as the minimum and maximum values."
   ]
  },
  {
   "cell_type": "code",
   "execution_count": 40,
   "id": "45499fc9",
   "metadata": {},
   "outputs": [],
   "source": [
    "# create list of numeric data type\n"
   ]
  },
  {
   "cell_type": "code",
   "execution_count": 41,
   "id": "11f2c42d",
   "metadata": {},
   "outputs": [],
   "source": [
    "# return the sum of the elements in the list\n"
   ]
  },
  {
   "cell_type": "code",
   "execution_count": 42,
   "id": "d31618c8",
   "metadata": {},
   "outputs": [],
   "source": [
    "# return the element with the minimum value\n",
    "# from the list\n"
   ]
  },
  {
   "cell_type": "code",
   "execution_count": 43,
   "id": "4979b2bd",
   "metadata": {},
   "outputs": [],
   "source": [
    "# return the element with the minimum value\n",
    "# from the list\n"
   ]
  },
  {
   "cell_type": "markdown",
   "id": "f7f5a822",
   "metadata": {},
   "source": [
    "## Dictionaries"
   ]
  },
  {
   "cell_type": "markdown",
   "id": "2c786b0a",
   "metadata": {},
   "source": [
    "Dictionaries are another iterable that uses key value pairs. With dictionaries every key has an associated value.\n",
    "\n",
    "However, unlike lists, dictionaries don't have an order to them.\n",
    "\n",
    "Dictionaries are defined by curly brackets."
   ]
  },
  {
   "cell_type": "code",
   "execution_count": 44,
   "id": "8d7e0bf7",
   "metadata": {},
   "outputs": [],
   "source": [
    "# create a dictionary\n"
   ]
  },
  {
   "cell_type": "code",
   "execution_count": 45,
   "id": "7d17180b",
   "metadata": {},
   "outputs": [],
   "source": [
    "# print dictionary\n"
   ]
  },
  {
   "cell_type": "code",
   "execution_count": 46,
   "id": "4ac3885d",
   "metadata": {},
   "outputs": [],
   "source": [
    "# view  first key in dictionary \n"
   ]
  },
  {
   "cell_type": "code",
   "execution_count": 47,
   "id": "d5f81bda",
   "metadata": {
    "scrolled": true
   },
   "outputs": [],
   "source": [
    "# view items in dictionary\n"
   ]
  },
  {
   "cell_type": "code",
   "execution_count": 48,
   "id": "e52d35bb",
   "metadata": {},
   "outputs": [],
   "source": [
    "# view all keys in dictionary\n"
   ]
  },
  {
   "cell_type": "code",
   "execution_count": 49,
   "id": "b009d4f5",
   "metadata": {},
   "outputs": [],
   "source": [
    "# view all values in dictionary\n"
   ]
  },
  {
   "cell_type": "markdown",
   "id": "85435e00",
   "metadata": {},
   "source": [
    "## `bool`"
   ]
  },
  {
   "cell_type": "markdown",
   "id": "a19e4d49",
   "metadata": {},
   "source": [
    "Nominal values that contain only two mutually exclusive categories are known as boolean or the `bool` data type."
   ]
  },
  {
   "cell_type": "code",
   "execution_count": 50,
   "id": "affb4344",
   "metadata": {},
   "outputs": [
    {
     "data": {
      "text/plain": [
       "True"
      ]
     },
     "execution_count": 50,
     "metadata": {},
     "output_type": "execute_result"
    }
   ],
   "source": [
    "True"
   ]
  },
  {
   "cell_type": "code",
   "execution_count": 51,
   "id": "3fb80a2e",
   "metadata": {},
   "outputs": [
    {
     "data": {
      "text/plain": [
       "False"
      ]
     },
     "execution_count": 51,
     "metadata": {},
     "output_type": "execute_result"
    }
   ],
   "source": [
    "False"
   ]
  },
  {
   "cell_type": "markdown",
   "id": "66e84239",
   "metadata": {},
   "source": [
    "## `tuple`"
   ]
  },
  {
   "cell_type": "markdown",
   "id": "dafb8850",
   "metadata": {},
   "source": [
    "A `tuple` is a collection which is ordered and unchangeable, and allow for duplicates."
   ]
  },
  {
   "cell_type": "code",
   "execution_count": 52,
   "id": "6dd82348",
   "metadata": {},
   "outputs": [],
   "source": [
    "# create a tuple\n"
   ]
  },
  {
   "cell_type": "code",
   "execution_count": 53,
   "id": "4ace863b",
   "metadata": {},
   "outputs": [],
   "source": [
    "# index the tuple\n"
   ]
  },
  {
   "cell_type": "code",
   "execution_count": 54,
   "id": "a9bae6e2",
   "metadata": {
    "scrolled": true
   },
   "outputs": [],
   "source": [
    "#t[0] = 'NEW'"
   ]
  },
  {
   "cell_type": "markdown",
   "id": "e77a6c80",
   "metadata": {},
   "source": [
    "## `set`"
   ]
  },
  {
   "cell_type": "markdown",
   "id": "5706d2a8",
   "metadata": {},
   "source": [
    "Sets are also an iterable that we come across when using python\n",
    "\n",
    "A set is a collection which is unordered, unchangeable*, and unindexed.\n",
    "\n",
    "Sets are also created using curly brackets, the most important features of sets is that they do not allow duplicates."
   ]
  },
  {
   "cell_type": "code",
   "execution_count": 55,
   "id": "791ba594",
   "metadata": {},
   "outputs": [],
   "source": [
    "# create a set\n"
   ]
  },
  {
   "cell_type": "markdown",
   "id": "cf7e4806",
   "metadata": {},
   "source": [
    "# Operators"
   ]
  },
  {
   "cell_type": "markdown",
   "id": "7f4ce1e9",
   "metadata": {},
   "source": [
    "## Conditional Operators"
   ]
  },
  {
   "cell_type": "code",
   "execution_count": 56,
   "id": "27921a4d",
   "metadata": {},
   "outputs": [
    {
     "data": {
      "text/plain": [
       "False"
      ]
     },
     "execution_count": 56,
     "metadata": {},
     "output_type": "execute_result"
    }
   ],
   "source": [
    "1 > 2"
   ]
  },
  {
   "cell_type": "code",
   "execution_count": 57,
   "id": "a03b3c81",
   "metadata": {},
   "outputs": [
    {
     "data": {
      "text/plain": [
       "True"
      ]
     },
     "execution_count": 57,
     "metadata": {},
     "output_type": "execute_result"
    }
   ],
   "source": [
    "1 < 2"
   ]
  },
  {
   "cell_type": "code",
   "execution_count": 58,
   "id": "66970f0b",
   "metadata": {},
   "outputs": [
    {
     "data": {
      "text/plain": [
       "True"
      ]
     },
     "execution_count": 58,
     "metadata": {},
     "output_type": "execute_result"
    }
   ],
   "source": [
    "1 >= 1"
   ]
  },
  {
   "cell_type": "code",
   "execution_count": 59,
   "id": "ba9bfdba",
   "metadata": {},
   "outputs": [
    {
     "data": {
      "text/plain": [
       "True"
      ]
     },
     "execution_count": 59,
     "metadata": {},
     "output_type": "execute_result"
    }
   ],
   "source": [
    "1 <= 4"
   ]
  },
  {
   "cell_type": "code",
   "execution_count": 60,
   "id": "fbe66b8d",
   "metadata": {},
   "outputs": [
    {
     "data": {
      "text/plain": [
       "True"
      ]
     },
     "execution_count": 60,
     "metadata": {},
     "output_type": "execute_result"
    }
   ],
   "source": [
    "1 == 1"
   ]
  },
  {
   "cell_type": "code",
   "execution_count": 61,
   "id": "f51347de",
   "metadata": {},
   "outputs": [
    {
     "data": {
      "text/plain": [
       "False"
      ]
     },
     "execution_count": 61,
     "metadata": {},
     "output_type": "execute_result"
    }
   ],
   "source": [
    "'hi' == 'bye'"
   ]
  },
  {
   "cell_type": "markdown",
   "id": "c4cff453",
   "metadata": {},
   "source": [
    "## Logic Operators"
   ]
  },
  {
   "cell_type": "code",
   "execution_count": 62,
   "id": "df874cfe",
   "metadata": {},
   "outputs": [
    {
     "data": {
      "text/plain": [
       "False"
      ]
     },
     "execution_count": 62,
     "metadata": {},
     "output_type": "execute_result"
    }
   ],
   "source": [
    "(1 > 2) and (2 < 3)"
   ]
  },
  {
   "cell_type": "code",
   "execution_count": 63,
   "id": "26f7fce4",
   "metadata": {},
   "outputs": [
    {
     "data": {
      "text/plain": [
       "True"
      ]
     },
     "execution_count": 63,
     "metadata": {},
     "output_type": "execute_result"
    }
   ],
   "source": [
    "(1 > 2) or (2 < 3)"
   ]
  },
  {
   "cell_type": "code",
   "execution_count": 64,
   "id": "16357001",
   "metadata": {},
   "outputs": [
    {
     "data": {
      "text/plain": [
       "True"
      ]
     },
     "execution_count": 64,
     "metadata": {},
     "output_type": "execute_result"
    }
   ],
   "source": [
    "(1 == 2) or (2 == 3) or (4 == 4)"
   ]
  },
  {
   "cell_type": "markdown",
   "id": "8898bf67",
   "metadata": {},
   "source": [
    "# Conditional Statements"
   ]
  },
  {
   "cell_type": "markdown",
   "id": "0dc5bd6c",
   "metadata": {},
   "source": [
    "Control flow: When working with conditional statements we use a control structure to direct the order of execution for the statements in a program.\n",
    "\n",
    "Conditional statements allow us to perform the conditional execution of a statement or a multiple statements based on the value of an expression. Conditional statements include:\n",
    "\n",
    "- `if`\n",
    "- `else`\n",
    "- `elif`"
   ]
  },
  {
   "cell_type": "markdown",
   "id": "e72d6489",
   "metadata": {},
   "source": [
    "## `if`"
   ]
  },
  {
   "cell_type": "markdown",
   "id": "59049ec1",
   "metadata": {},
   "source": [
    "`if` statements are one of the control structures that allow to change the flow of our program.\n",
    "\n",
    "The `if` statement uses conditions that can be combined with operators (`>`, `<`, `==`) to direct the control flow.\n",
    "\n",
    "When writing `if` statements, every if statement needs a colon, after which the next line is always indented with four spaces."
   ]
  },
  {
   "cell_type": "code",
   "execution_count": 65,
   "id": "52de1ecc",
   "metadata": {},
   "outputs": [],
   "source": [
    "# create an if statement with operator\n"
   ]
  },
  {
   "cell_type": "code",
   "execution_count": 66,
   "id": "be8e9faf",
   "metadata": {},
   "outputs": [],
   "source": [
    "# perform some arthmetic operation with if statement\n"
   ]
  },
  {
   "cell_type": "code",
   "execution_count": 67,
   "id": "954f7ff4",
   "metadata": {},
   "outputs": [],
   "source": [
    "# create an if statement with two conditions\n"
   ]
  },
  {
   "cell_type": "markdown",
   "id": "5de230c7",
   "metadata": {},
   "source": [
    "An `if` statement can also have mutltiple statements referred to as a block.\n",
    "\n",
    "\n",
    "Python interprets a block as a single entity, so if the `if` statement is `TRUE`, the entire block will run."
   ]
  },
  {
   "cell_type": "code",
   "execution_count": 68,
   "id": "3ac7a43b",
   "metadata": {},
   "outputs": [],
   "source": [
    "# create an if statement with a block\n"
   ]
  },
  {
   "cell_type": "markdown",
   "id": "9e3e89a7",
   "metadata": {},
   "source": [
    "## `else`"
   ]
  },
  {
   "cell_type": "markdown",
   "id": "070a628f",
   "metadata": {},
   "source": [
    "An `else` statement can run in conjunction with `if` to allow for another conditional to impact the control flow.\n",
    "\n",
    "We do not include an expression with the `else` statement.\n",
    "\n",
    "With the `else` clause, we run a condition when `if` is not `TRUE`:"
   ]
  },
  {
   "cell_type": "code",
   "execution_count": 69,
   "id": "bc68b954",
   "metadata": {},
   "outputs": [],
   "source": [
    "# create an if-else statement\n"
   ]
  },
  {
   "cell_type": "markdown",
   "id": "e64494be",
   "metadata": {},
   "source": [
    "## `elif`"
   ]
  },
  {
   "cell_type": "markdown",
   "id": "b5bf4ade",
   "metadata": {},
   "source": [
    "To evaluate several cases, we can use the `elif` clause and stands for `else` `if`. \n",
    "\n",
    "Unlike `else` we can add an expression with `elif`."
   ]
  },
  {
   "cell_type": "code",
   "execution_count": 70,
   "id": "d6e549df",
   "metadata": {},
   "outputs": [],
   "source": [
    "# create an if, elif, else statement\n"
   ]
  },
  {
   "cell_type": "markdown",
   "id": "78e9e077",
   "metadata": {},
   "source": [
    "# Iteration"
   ]
  },
  {
   "cell_type": "markdown",
   "id": "33fb048f",
   "metadata": {},
   "source": [
    "Often it is necessary to iterate through an iterable, i.e. lists, dictionaries, etc.\n",
    "\n",
    "Loops can be used to iterate thorugh an iterable or store of data. Types of loops include:\n",
    "    \n",
    "- `for`\n",
    "- `while`"
   ]
  },
  {
   "cell_type": "markdown",
   "id": "d55e4914",
   "metadata": {},
   "source": [
    "## `for` Loops"
   ]
  },
  {
   "cell_type": "markdown",
   "id": "f955b594",
   "metadata": {},
   "source": [
    "To iterate we need to be able to repeat an action.\n",
    "\n",
    "`for` loops allow us to repeat ot loop a block of code until some condition is met. \n",
    "\n",
    "`Warning` if this condition is not met, the `for` loop can run it's loop forever.\n",
    "\n",
    "Programs sometimes need to repeat actions. To repeat actions we can use a for loop.\n",
    "A for loop is written inside the code. A for loop can have 1 or more instructions.\n",
    "\n",
    "A for loop will repeat a code block. Repeation is continued until the stop condition is met. If the stop condition is not met it will loop infintely."
   ]
  },
  {
   "cell_type": "code",
   "execution_count": 71,
   "id": "23970fd0",
   "metadata": {},
   "outputs": [],
   "source": [
    "# create two lists of strings\n",
    "\n",
    "\n",
    "# create a for loop that prints each element of the list\n"
   ]
  },
  {
   "cell_type": "code",
   "execution_count": 72,
   "id": "7fbbb48e",
   "metadata": {},
   "outputs": [],
   "source": [
    "# iterate through two lists with zip\n"
   ]
  },
  {
   "cell_type": "markdown",
   "id": "14d93891",
   "metadata": {},
   "source": [
    "The repetitive nature of loops allow us to create a new list from an old list"
   ]
  },
  {
   "cell_type": "code",
   "execution_count": 73,
   "id": "f70d3aa3",
   "metadata": {},
   "outputs": [],
   "source": [
    "# create an empty list\n",
    "\n",
    "\n",
    "# use for loop to append elements from old list into new list\n",
    "\n",
    "# print new list\n"
   ]
  },
  {
   "cell_type": "code",
   "execution_count": 74,
   "id": "bb25eab5",
   "metadata": {},
   "outputs": [],
   "source": [
    "# use for loop to append elements into new list based on an if statement\n",
    "\n",
    "        \n",
    "# print new list\n"
   ]
  },
  {
   "cell_type": "code",
   "execution_count": 75,
   "id": "d33ccb8e",
   "metadata": {
    "scrolled": false
   },
   "outputs": [],
   "source": [
    "# create a list of numeric data types\n",
    "num_list = [1, 2.2, 3, 4.4, 5, 6.6, 7, 8.8, 9, 10.1]\n",
    "\n",
    "\n",
    "# create a for loop that prints the element times itself\n",
    "# ex. 1*1=1\n",
    "#     2*2=4...\n"
   ]
  },
  {
   "cell_type": "markdown",
   "id": "1be369e6",
   "metadata": {},
   "source": [
    "## while Loops"
   ]
  },
  {
   "cell_type": "markdown",
   "id": "d92f16fa",
   "metadata": {},
   "source": [
    "`while` loops are another iteration tool we can use to repeat a certain block of code.\n",
    "\n",
    "As a loop, `while` loops will continue to loop through an action or block of code until some condition is met, here we utilize some operation on the iterator variable to meet the condition:"
   ]
  },
  {
   "cell_type": "code",
   "execution_count": 76,
   "id": "160d3d04",
   "metadata": {},
   "outputs": [],
   "source": [
    "# create a while loop\n"
   ]
  },
  {
   "cell_type": "markdown",
   "id": "6ea4fedd",
   "metadata": {},
   "source": [
    "## `.range()`"
   ]
  },
  {
   "cell_type": "markdown",
   "id": "37dbdea5",
   "metadata": {},
   "source": [
    "The `.range()` function creates a sequence of integers. \n",
    "\n",
    "As input the function requires a stop value to end the sequence, and by default begins at `0`. The `start` parameter sets the initial integer, and the `step` parameter sets the value of increments."
   ]
  },
  {
   "cell_type": "code",
   "execution_count": 77,
   "id": "05170372",
   "metadata": {},
   "outputs": [],
   "source": [
    "# create a range object\n"
   ]
  },
  {
   "cell_type": "code",
   "execution_count": 78,
   "id": "f925d3bf",
   "metadata": {},
   "outputs": [],
   "source": [
    "# iterate through a range object\n"
   ]
  },
  {
   "cell_type": "code",
   "execution_count": 79,
   "id": "e84ed595",
   "metadata": {},
   "outputs": [],
   "source": [
    "# create a list from a range\n"
   ]
  },
  {
   "cell_type": "code",
   "execution_count": 80,
   "id": "203478cb",
   "metadata": {},
   "outputs": [],
   "source": [
    "# iterate through a range while utilizing the step size parameter\n"
   ]
  },
  {
   "cell_type": "markdown",
   "id": "4dd14940",
   "metadata": {},
   "source": [
    "## list comprehension"
   ]
  },
  {
   "cell_type": "markdown",
   "id": "6e831421",
   "metadata": {},
   "source": [
    "Recall that the repetitive nature of loops allow us to create a new list from an old list\n",
    "\n",
    "With list comprehension, we can create a new list from an old list with a more concise syntax where:\n",
    "\n",
    "`newlist` = [expression `for` item `in` iterable]\n",
    "\n",
    "and with a conditional:\n",
    "\n",
    "`newlist` = [expression `for` item `in` iterable `if` condition == `True`]"
   ]
  },
  {
   "cell_type": "code",
   "execution_count": 81,
   "id": "4a721c20",
   "metadata": {},
   "outputs": [],
   "source": [
    "# create an empty list\n",
    "\n",
    "\n",
    "# use for loop to append elements from old list into new list\n",
    "\n",
    "        \n",
    "# print new list\n"
   ]
  },
  {
   "cell_type": "code",
   "execution_count": 82,
   "id": "60750c87",
   "metadata": {},
   "outputs": [],
   "source": [
    "# reset list to empty\n",
    "\n",
    "\n",
    "# recreate list with list comprehension\n",
    "\n",
    "\n",
    "# print list\n"
   ]
  },
  {
   "cell_type": "code",
   "execution_count": 83,
   "id": "e366da78",
   "metadata": {},
   "outputs": [],
   "source": [
    "# use list comprehension with a conditional\n",
    "\n",
    "\n",
    "# print list\n"
   ]
  },
  {
   "cell_type": "code",
   "execution_count": 84,
   "id": "28215754",
   "metadata": {},
   "outputs": [],
   "source": [
    "# apply method to capitalize the elements in list with \n",
    "# list comprehension\n"
   ]
  },
  {
   "cell_type": "markdown",
   "id": "cd0f9db5",
   "metadata": {
    "collapsed": true
   },
   "source": [
    "We can use list comprehension to perform an arithmetic operation much like we would with `for` loop:"
   ]
  },
  {
   "cell_type": "code",
   "execution_count": 85,
   "id": "a3a2471a",
   "metadata": {},
   "outputs": [],
   "source": [
    "# create a list of numeric data types\n",
    "\n",
    "\n",
    "# create an empty list\n",
    "\n",
    "\n",
    "# use for loop to square elements\n",
    "# in numeric list\n"
   ]
  },
  {
   "cell_type": "code",
   "execution_count": 86,
   "id": "486a3001",
   "metadata": {
    "scrolled": true
   },
   "outputs": [],
   "source": [
    "# use list comprehension to sqaure\n",
    "# elements in numeric list\n"
   ]
  },
  {
   "cell_type": "markdown",
   "id": "de69e085",
   "metadata": {},
   "source": [
    "# Functions"
   ]
  },
  {
   "cell_type": "markdown",
   "id": "2242b80b",
   "metadata": {},
   "source": [
    "Functions are executable blocks of code, which once defined can be used any number of times. \n",
    "\n",
    "To create a function we first need to define it by using the `def` keyword. \n",
    "\n",
    "There is a space and then the name of the new function. \n",
    "\n",
    "Finally inside parenthesis we call the parameters for the function."
   ]
  },
  {
   "cell_type": "code",
   "execution_count": 87,
   "id": "299565a4",
   "metadata": {},
   "outputs": [],
   "source": [
    "# define a function called square\n",
    "def square(input):\n",
    "    \"\"\"\n",
    "    Description\n",
    "    \n",
    "    This function will square a value\n",
    "    \"\"\"\n",
    "    output = input ** 2\n",
    "    # here we return the output varible\n",
    "    return output"
   ]
  },
  {
   "cell_type": "code",
   "execution_count": 88,
   "id": "d21aade4",
   "metadata": {},
   "outputs": [
    {
     "data": {
      "text/plain": [
       "4"
      ]
     },
     "execution_count": 88,
     "metadata": {},
     "output_type": "execute_result"
    }
   ],
   "source": [
    "# test function\n",
    "square(2)"
   ]
  },
  {
   "cell_type": "code",
   "execution_count": 89,
   "id": "c6774011",
   "metadata": {},
   "outputs": [],
   "source": [
    "# does output exist outside the function?\n",
    "#output"
   ]
  },
  {
   "cell_type": "markdown",
   "id": "3d027d7f",
   "metadata": {},
   "source": [
    "Functions can also work on strings:"
   ]
  },
  {
   "cell_type": "code",
   "execution_count": 90,
   "id": "e445afad",
   "metadata": {},
   "outputs": [],
   "source": [
    "# create function to add two strings\n"
   ]
  },
  {
   "cell_type": "code",
   "execution_count": 91,
   "id": "01563018",
   "metadata": {},
   "outputs": [],
   "source": [
    "# test function\n"
   ]
  },
  {
   "cell_type": "markdown",
   "id": "1f6b3223",
   "metadata": {},
   "source": [
    "## `lambda` expressions"
   ]
  },
  {
   "cell_type": "markdown",
   "id": "973da91b",
   "metadata": {},
   "source": [
    "`lambda` expressions are single line functions defined with no name and have only one expression, but with any number of arguments.\n",
    "\n",
    "lambda arguments : expression"
   ]
  },
  {
   "cell_type": "code",
   "execution_count": 92,
   "id": "7ee835c1",
   "metadata": {},
   "outputs": [
    {
     "data": {
      "text/plain": [
       "4"
      ]
     },
     "execution_count": 92,
     "metadata": {},
     "output_type": "execute_result"
    }
   ],
   "source": [
    "# define a function that multiplies a variable by two\n",
    "def mul_two(num):\n",
    "    return num * 2\n",
    "\n",
    "mul_two(2)"
   ]
  },
  {
   "cell_type": "code",
   "execution_count": 93,
   "id": "3cd1b9da",
   "metadata": {},
   "outputs": [
    {
     "data": {
      "text/plain": [
       "4"
      ]
     },
     "execution_count": 93,
     "metadata": {},
     "output_type": "execute_result"
    }
   ],
   "source": [
    "# run function on a numeric value\n",
    "mul_two(2)"
   ]
  },
  {
   "cell_type": "markdown",
   "id": "2711fe8e",
   "metadata": {},
   "source": [
    "We can have the same functionality in one line with lambda expressions"
   ]
  },
  {
   "cell_type": "code",
   "execution_count": 94,
   "id": "3bff28c4",
   "metadata": {},
   "outputs": [],
   "source": [
    "# use lambda function to multiply \n",
    "# a variable by two\n"
   ]
  },
  {
   "cell_type": "markdown",
   "id": "858da6be",
   "metadata": {},
   "source": [
    "We can also multiply one argument with another and return the result:"
   ]
  },
  {
   "cell_type": "code",
   "execution_count": 95,
   "id": "575ed6f9",
   "metadata": {},
   "outputs": [],
   "source": [
    "# use a lambda expression to multiply one variable\n",
    "# with another\n"
   ]
  },
  {
   "cell_type": "markdown",
   "id": "a3062080",
   "metadata": {},
   "source": [
    "Another advantage of lambda expressions is when we use them as an anonymous function inside of a function.\n",
    "\n",
    "Let's define a function that creates an exponent to a variable"
   ]
  },
  {
   "cell_type": "code",
   "execution_count": 96,
   "id": "e6f773bc",
   "metadata": {},
   "outputs": [],
   "source": [
    "# function to create an exponent\n",
    "def exponent(n):\n",
    "    return lambda  x: x ** n"
   ]
  },
  {
   "cell_type": "markdown",
   "id": "86c53eb5",
   "metadata": {},
   "source": [
    "Now we can use this function to create a function that raises a number to the fourth power:"
   ]
  },
  {
   "cell_type": "code",
   "execution_count": 97,
   "id": "1763828d",
   "metadata": {},
   "outputs": [],
   "source": [
    "# use the squaring function to raise a number to the fourth power\n",
    "\n",
    "\n",
    "# test the function\n"
   ]
  },
  {
   "cell_type": "markdown",
   "id": "bb5e55d1",
   "metadata": {},
   "source": [
    "## `map` and `filter`"
   ]
  },
  {
   "cell_type": "markdown",
   "id": "939c4c80",
   "metadata": {},
   "source": [
    "The `map` function allows us to take a function and apply it to an iterable, passing each element in the iterable through the function:"
   ]
  },
  {
   "cell_type": "code",
   "execution_count": 98,
   "id": "fc5bb509",
   "metadata": {},
   "outputs": [],
   "source": [
    "# define a function that multiplies a variable by two\n"
   ]
  },
  {
   "cell_type": "code",
   "execution_count": 99,
   "id": "0e12ce0a",
   "metadata": {},
   "outputs": [],
   "source": [
    "# create a list of numbers\n",
    "num_list = [1, 2.2, 3, 4.4, 5, 6.6, 7, 8.8, 9, 10.1]"
   ]
  },
  {
   "cell_type": "code",
   "execution_count": 100,
   "id": "e3caf45e",
   "metadata": {},
   "outputs": [],
   "source": [
    "# apply a function to a list with map\n"
   ]
  },
  {
   "cell_type": "markdown",
   "id": "67473b07",
   "metadata": {},
   "source": [
    "This gives us the map object's location. To access the data we change the type of the object from `map` to `list`:"
   ]
  },
  {
   "cell_type": "code",
   "execution_count": 101,
   "id": "a9f70c90",
   "metadata": {},
   "outputs": [],
   "source": [
    "# create a list of numbers multiplied by two using map\n"
   ]
  },
  {
   "cell_type": "markdown",
   "id": "89604d65",
   "metadata": {},
   "source": [
    "`map` can also be used with `lambda` expressions"
   ]
  },
  {
   "cell_type": "code",
   "execution_count": 102,
   "id": "47611c76",
   "metadata": {},
   "outputs": [],
   "source": [
    "# create a list of numbers multiplied by two\n",
    "# using lambda expressions, and map\n"
   ]
  },
  {
   "cell_type": "markdown",
   "id": "11b694b7",
   "metadata": {},
   "source": [
    "`filter` allows us to filter an interable based on a boolean value returned from a function. This effectively filters out any values that are false.\n",
    "\n",
    "Notice that because we are using a `bool`, we include some conditional when using `filter`."
   ]
  },
  {
   "cell_type": "code",
   "execution_count": 103,
   "id": "8cf62fd7",
   "metadata": {
    "scrolled": true
   },
   "outputs": [],
   "source": [
    "# create a list of numbers less than 5 with filter\n"
   ]
  },
  {
   "cell_type": "code",
   "execution_count": 104,
   "id": "3a31377c",
   "metadata": {},
   "outputs": [],
   "source": [
    "# create a list of odd numbers from numeric list\n",
    "# using modulo and filter\n"
   ]
  },
  {
   "cell_type": "markdown",
   "id": "8ee92b0a",
   "metadata": {},
   "source": [
    "# Exercises\n",
    "\n",
    "Answer the following questions:"
   ]
  },
  {
   "cell_type": "markdown",
   "id": "f366b7ce",
   "metadata": {},
   "source": [
    "1. **Create a function that counts the number of times the word \"car\" occurs in a sentence, ignoring edge cases**"
   ]
  },
  {
   "cell_type": "code",
   "execution_count": 105,
   "id": "c7967489",
   "metadata": {},
   "outputs": [],
   "source": [
    "# define function\n"
   ]
  },
  {
   "cell_type": "code",
   "execution_count": 106,
   "id": "1c9dbc56",
   "metadata": {},
   "outputs": [],
   "source": [
    "# test function\n"
   ]
  },
  {
   "cell_type": "markdown",
   "id": "6e38dce7",
   "metadata": {},
   "source": [
    "2 **Given this nested list, use indexing to grab the string \"ff\"**"
   ]
  },
  {
   "cell_type": "code",
   "execution_count": 107,
   "id": "d6241c9b",
   "metadata": {},
   "outputs": [],
   "source": [
    "# nested list\n",
    "nested_list = ['a', ['bb', ['ccc', 'ddd'], 'ee', 'ff'], 'g', 'h']"
   ]
  },
  {
   "cell_type": "code",
   "execution_count": 108,
   "id": "6aecf20e",
   "metadata": {},
   "outputs": [],
   "source": [
    "# retrieve \"ff\"\n"
   ]
  },
  {
   "cell_type": "markdown",
   "id": "95634166",
   "metadata": {},
   "source": [
    "### Final Problem\n",
    "**You are driving a little too fast, and a police officer stops you. Write a function\n",
    "  to return one of 3 possible results: \"No ticket\", \"Small ticket\", or \"Big Ticket\". \n",
    "  If your speed is 60 or less, the result is \"No Ticket\". If speed is between 61 \n",
    "  and 80 inclusive, the result is \"Small Ticket\". If speed is 81 or more, the result is \"Big    Ticket\". Unless it is your birthday (encoded as a boolean value in the parameters of the function) -- on your birthday, your speed can be 5 higher in all \n",
    "  cases. **"
   ]
  },
  {
   "cell_type": "code",
   "execution_count": 109,
   "id": "1cc0b13f",
   "metadata": {},
   "outputs": [],
   "source": [
    "# create function\n"
   ]
  },
  {
   "cell_type": "code",
   "execution_count": 110,
   "id": "5838fe1e",
   "metadata": {},
   "outputs": [],
   "source": [
    "# test function\n"
   ]
  },
  {
   "cell_type": "code",
   "execution_count": 111,
   "id": "486ef842",
   "metadata": {},
   "outputs": [],
   "source": [
    "# fini"
   ]
  }
 ],
 "metadata": {
  "kernelspec": {
   "display_name": "Python 3 (ipykernel)",
   "language": "python",
   "name": "python3"
  },
  "language_info": {
   "codemirror_mode": {
    "name": "ipython",
    "version": 3
   },
   "file_extension": ".py",
   "mimetype": "text/x-python",
   "name": "python",
   "nbconvert_exporter": "python",
   "pygments_lexer": "ipython3",
   "version": "3.9.7"
  },
  "toc": {
   "base_numbering": 1,
   "nav_menu": {},
   "number_sections": true,
   "sideBar": true,
   "skip_h1_title": false,
   "title_cell": "Table of Contents",
   "title_sidebar": "Contents",
   "toc_cell": false,
   "toc_position": {
    "height": "calc(100% - 180px)",
    "left": "10px",
    "top": "150px",
    "width": "309.594px"
   },
   "toc_section_display": true,
   "toc_window_display": true
  }
 },
 "nbformat": 4,
 "nbformat_minor": 5
}
